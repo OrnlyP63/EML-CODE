{
 "cells": [
  {
   "cell_type": "code",
   "execution_count": 1,
   "id": "fc1e32e8-ba3e-41ed-9810-77d06d75abf4",
   "metadata": {},
   "outputs": [],
   "source": [
    "import seaborn as sns\n",
    "import numpy as np\n",
    "import pandas as pd\n",
    "from sklearn.model_selection import train_test_split\n",
    "import scipy as sp"
   ]
  },
  {
   "cell_type": "code",
   "execution_count": 2,
   "id": "1ba827db-96ac-46ac-ba99-62277937b5f2",
   "metadata": {},
   "outputs": [],
   "source": [
    "import sys"
   ]
  },
  {
   "cell_type": "code",
   "execution_count": 3,
   "id": "14daf86d-c53d-4149-8e30-09116172d162",
   "metadata": {},
   "outputs": [],
   "source": [
    "def sigmoid(x):\n",
    "    z = np.exp(-x)\n",
    "\n",
    "    return 1 / (1 + z)"
   ]
  },
  {
   "cell_type": "code",
   "execution_count": 4,
   "id": "db1b5556-033d-4d0a-934a-ec08c5bff817",
   "metadata": {},
   "outputs": [],
   "source": [
    "# Loading Iris Datasets:\n",
    "iris = sns.load_dataset(\"iris\")"
   ]
  },
  {
   "cell_type": "code",
   "execution_count": 5,
   "id": "2c9c5cd7-1de9-4999-a1e1-3a2a7779dfc7",
   "metadata": {},
   "outputs": [
    {
     "data": {
      "text/html": [
       "<div>\n",
       "<style scoped>\n",
       "    .dataframe tbody tr th:only-of-type {\n",
       "        vertical-align: middle;\n",
       "    }\n",
       "\n",
       "    .dataframe tbody tr th {\n",
       "        vertical-align: top;\n",
       "    }\n",
       "\n",
       "    .dataframe thead th {\n",
       "        text-align: right;\n",
       "    }\n",
       "</style>\n",
       "<table border=\"1\" class=\"dataframe\">\n",
       "  <thead>\n",
       "    <tr style=\"text-align: right;\">\n",
       "      <th></th>\n",
       "      <th>sepal_length</th>\n",
       "      <th>sepal_width</th>\n",
       "      <th>petal_length</th>\n",
       "      <th>petal_width</th>\n",
       "      <th>species</th>\n",
       "    </tr>\n",
       "  </thead>\n",
       "  <tbody>\n",
       "    <tr>\n",
       "      <th>0</th>\n",
       "      <td>5.1</td>\n",
       "      <td>3.5</td>\n",
       "      <td>1.4</td>\n",
       "      <td>0.2</td>\n",
       "      <td>setosa</td>\n",
       "    </tr>\n",
       "    <tr>\n",
       "      <th>1</th>\n",
       "      <td>4.9</td>\n",
       "      <td>3.0</td>\n",
       "      <td>1.4</td>\n",
       "      <td>0.2</td>\n",
       "      <td>setosa</td>\n",
       "    </tr>\n",
       "    <tr>\n",
       "      <th>2</th>\n",
       "      <td>4.7</td>\n",
       "      <td>3.2</td>\n",
       "      <td>1.3</td>\n",
       "      <td>0.2</td>\n",
       "      <td>setosa</td>\n",
       "    </tr>\n",
       "    <tr>\n",
       "      <th>3</th>\n",
       "      <td>4.6</td>\n",
       "      <td>3.1</td>\n",
       "      <td>1.5</td>\n",
       "      <td>0.2</td>\n",
       "      <td>setosa</td>\n",
       "    </tr>\n",
       "    <tr>\n",
       "      <th>4</th>\n",
       "      <td>5.0</td>\n",
       "      <td>3.6</td>\n",
       "      <td>1.4</td>\n",
       "      <td>0.2</td>\n",
       "      <td>setosa</td>\n",
       "    </tr>\n",
       "  </tbody>\n",
       "</table>\n",
       "</div>"
      ],
      "text/plain": [
       "   sepal_length  sepal_width  petal_length  petal_width species\n",
       "0           5.1          3.5           1.4          0.2  setosa\n",
       "1           4.9          3.0           1.4          0.2  setosa\n",
       "2           4.7          3.2           1.3          0.2  setosa\n",
       "3           4.6          3.1           1.5          0.2  setosa\n",
       "4           5.0          3.6           1.4          0.2  setosa"
      ]
     },
     "execution_count": 5,
     "metadata": {},
     "output_type": "execute_result"
    }
   ],
   "source": [
    "iris.head()"
   ]
  },
  {
   "cell_type": "code",
   "execution_count": 6,
   "id": "bf0d52db-3948-4fcc-a033-7391600174a6",
   "metadata": {},
   "outputs": [],
   "source": [
    "X = iris.copy().iloc[:, :-2].values\n",
    "y = pd.get_dummies(iris.copy().iloc[:, -1]).values\n",
    "\n",
    "n = X.shape[0]\n",
    "m = X.shape[1]\n",
    "L = 10\n",
    "W = np.random.normal(size=(m, L))"
   ]
  },
  {
   "cell_type": "code",
   "execution_count": 7,
   "id": "e59a82b1-14d9-4d08-a332-4d7bb5c43f50",
   "metadata": {},
   "outputs": [],
   "source": [
    "I_n = np.eye(n, n)"
   ]
  },
  {
   "cell_type": "code",
   "execution_count": 8,
   "id": "9fd6ce1a-a994-4bd5-8308-91549d7f8fcd",
   "metadata": {},
   "outputs": [],
   "source": [
    "Z = np.linalg.inv(X @ X.T + I_n) @ X @ X.T"
   ]
  },
  {
   "cell_type": "code",
   "execution_count": 9,
   "id": "b87721c4-a49f-47ef-833a-278eee5fc5dd",
   "metadata": {},
   "outputs": [],
   "source": [
    "A = 0.5*(np.abs(Z) + np.abs(Z.T))\n",
    "A_til = A\n",
    "np.fill_diagonal(A_til, A.diagonal() + 1)"
   ]
  },
  {
   "cell_type": "code",
   "execution_count": 10,
   "id": "845f71c6-7f52-4c74-b184-e509e7c7ad8a",
   "metadata": {},
   "outputs": [],
   "source": [
    "D_til = np.eye(n,n) * A.sum(axis=1)"
   ]
  },
  {
   "cell_type": "code",
   "execution_count": 11,
   "id": "f005d709-9e47-4e00-8bdb-322c6a4d05a5",
   "metadata": {},
   "outputs": [],
   "source": [
    "D_til_inv = sp.linalg.fractional_matrix_power(D_til, -0.5)"
   ]
  },
  {
   "cell_type": "code",
   "execution_count": 12,
   "id": "492b5c43-de31-4592-ad4b-b37d20055a40",
   "metadata": {},
   "outputs": [],
   "source": [
    "A_ = D_til_inv @ A_til @ D_til_inv"
   ]
  },
  {
   "cell_type": "code",
   "execution_count": 13,
   "id": "5a7ed5cc-eb0f-4736-abc6-3dee47eb5b2a",
   "metadata": {},
   "outputs": [],
   "source": [
    "H = sigmoid(A_ @ X @ W)"
   ]
  },
  {
   "cell_type": "code",
   "execution_count": 14,
   "id": "c90bdcf5-a4c2-4a5c-bea8-4d042ab3690d",
   "metadata": {},
   "outputs": [],
   "source": [
    "I_L = np.eye(L, L) "
   ]
  },
  {
   "cell_type": "code",
   "execution_count": 15,
   "id": "7849bf8c-12ab-4026-841f-aeb4e0fbbfd4",
   "metadata": {},
   "outputs": [],
   "source": [
    "Beta = np.linalg.inv(H.T @ H  + I_L) @ H.T @ y"
   ]
  },
  {
   "cell_type": "code",
   "execution_count": 18,
   "id": "aaa049e3-e6f2-4591-b6b2-47b9a934dea4",
   "metadata": {},
   "outputs": [],
   "source": [
    "Y_pred= H @ Beta"
   ]
  },
  {
   "cell_type": "code",
   "execution_count": 19,
   "id": "83cca226-f8b2-4a46-b28c-5d9b231f39ab",
   "metadata": {},
   "outputs": [
    {
     "data": {
      "text/plain": [
       "array([0, 0, 0, 0, 0, 0, 0, 0, 0, 0, 0, 0, 0, 0, 0, 0, 0, 0, 0, 0, 0, 0,\n",
       "       0, 0, 0, 0, 0, 0, 0, 0, 0, 0, 0, 0, 0, 0, 0, 0, 0, 0, 0, 0, 0, 0,\n",
       "       0, 0, 0, 0, 0, 0, 1, 1, 1, 1, 1, 2, 2, 1, 1, 2, 1, 1, 1, 2, 1, 1,\n",
       "       2, 1, 1, 1, 2, 1, 1, 2, 1, 1, 1, 2, 2, 1, 1, 1, 1, 2, 2, 1, 1, 1,\n",
       "       2, 1, 2, 2, 1, 1, 2, 2, 2, 1, 1, 1, 2, 2, 2, 2, 2, 2, 2, 2, 2, 2,\n",
       "       2, 2, 2, 2, 2, 2, 2, 2, 2, 2, 2, 2, 2, 2, 2, 2, 2, 2, 2, 2, 2, 2,\n",
       "       2, 2, 2, 1, 2, 2, 2, 2, 2, 1, 2, 2, 2, 2, 2, 2, 2, 2], dtype=int64)"
      ]
     },
     "execution_count": 19,
     "metadata": {},
     "output_type": "execute_result"
    }
   ],
   "source": [
    "np.argmax(Y_pred, axis=1)"
   ]
  },
  {
   "cell_type": "code",
   "execution_count": null,
   "id": "e2496723-1da3-410e-92a4-697ad6fc4ac5",
   "metadata": {},
   "outputs": [],
   "source": [
    "class GCELM:\n",
    "    def __init__(self, L, activate)"
   ]
  }
 ],
 "metadata": {
  "kernelspec": {
   "display_name": "Python (AIML)",
   "language": "python",
   "name": "aiml"
  },
  "language_info": {
   "codemirror_mode": {
    "name": "ipython",
    "version": 3
   },
   "file_extension": ".py",
   "mimetype": "text/x-python",
   "name": "python",
   "nbconvert_exporter": "python",
   "pygments_lexer": "ipython3",
   "version": "3.7.9"
  }
 },
 "nbformat": 4,
 "nbformat_minor": 5
}
