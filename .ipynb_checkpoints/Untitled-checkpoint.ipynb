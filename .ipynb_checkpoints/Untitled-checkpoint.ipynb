{
 "cells": [
  {
   "cell_type": "code",
   "execution_count": 1,
   "id": "bcbeafff-f518-4a83-8c5e-34e9e77f727a",
   "metadata": {},
   "outputs": [],
   "source": [
    "import seaborn as sns\n",
    "import numpy as np\n",
    "import pandas as pd\n",
    "from sklearn.model_selection import train_test_split\n",
    "import scipy as sp"
   ]
  },
  {
   "cell_type": "code",
   "execution_count": 2,
   "id": "46ff91de-388b-4aa1-b1a9-0919ef271890",
   "metadata": {},
   "outputs": [],
   "source": [
    "import sys"
   ]
  },
  {
   "cell_type": "code",
   "execution_count": 3,
   "id": "005a6af4-3e66-4c65-837c-76e9687ba166",
   "metadata": {},
   "outputs": [],
   "source": [
    "def sigmoid(x):\n",
    "    z = np.exp(-x)\n",
    "\n",
    "    return 1 / (1 + z)"
   ]
  },
  {
   "cell_type": "code",
   "execution_count": 4,
   "id": "1af7235e-3e79-4ffd-987d-16325874bba8",
   "metadata": {},
   "outputs": [],
   "source": [
    "# Loading Iris Datasets:\n",
    "iris = sns.load_dataset(\"iris\")"
   ]
  },
  {
   "cell_type": "code",
   "execution_count": 5,
   "id": "6a4f0fcc-e16a-4db4-ad3c-2aefb9c21f32",
   "metadata": {},
   "outputs": [
    {
     "data": {
      "text/html": [
       "<div>\n",
       "<style scoped>\n",
       "    .dataframe tbody tr th:only-of-type {\n",
       "        vertical-align: middle;\n",
       "    }\n",
       "\n",
       "    .dataframe tbody tr th {\n",
       "        vertical-align: top;\n",
       "    }\n",
       "\n",
       "    .dataframe thead th {\n",
       "        text-align: right;\n",
       "    }\n",
       "</style>\n",
       "<table border=\"1\" class=\"dataframe\">\n",
       "  <thead>\n",
       "    <tr style=\"text-align: right;\">\n",
       "      <th></th>\n",
       "      <th>sepal_length</th>\n",
       "      <th>sepal_width</th>\n",
       "      <th>petal_length</th>\n",
       "      <th>petal_width</th>\n",
       "      <th>species</th>\n",
       "    </tr>\n",
       "  </thead>\n",
       "  <tbody>\n",
       "    <tr>\n",
       "      <th>0</th>\n",
       "      <td>5.1</td>\n",
       "      <td>3.5</td>\n",
       "      <td>1.4</td>\n",
       "      <td>0.2</td>\n",
       "      <td>setosa</td>\n",
       "    </tr>\n",
       "    <tr>\n",
       "      <th>1</th>\n",
       "      <td>4.9</td>\n",
       "      <td>3.0</td>\n",
       "      <td>1.4</td>\n",
       "      <td>0.2</td>\n",
       "      <td>setosa</td>\n",
       "    </tr>\n",
       "    <tr>\n",
       "      <th>2</th>\n",
       "      <td>4.7</td>\n",
       "      <td>3.2</td>\n",
       "      <td>1.3</td>\n",
       "      <td>0.2</td>\n",
       "      <td>setosa</td>\n",
       "    </tr>\n",
       "    <tr>\n",
       "      <th>3</th>\n",
       "      <td>4.6</td>\n",
       "      <td>3.1</td>\n",
       "      <td>1.5</td>\n",
       "      <td>0.2</td>\n",
       "      <td>setosa</td>\n",
       "    </tr>\n",
       "    <tr>\n",
       "      <th>4</th>\n",
       "      <td>5.0</td>\n",
       "      <td>3.6</td>\n",
       "      <td>1.4</td>\n",
       "      <td>0.2</td>\n",
       "      <td>setosa</td>\n",
       "    </tr>\n",
       "  </tbody>\n",
       "</table>\n",
       "</div>"
      ],
      "text/plain": [
       "   sepal_length  sepal_width  petal_length  petal_width species\n",
       "0           5.1          3.5           1.4          0.2  setosa\n",
       "1           4.9          3.0           1.4          0.2  setosa\n",
       "2           4.7          3.2           1.3          0.2  setosa\n",
       "3           4.6          3.1           1.5          0.2  setosa\n",
       "4           5.0          3.6           1.4          0.2  setosa"
      ]
     },
     "execution_count": 5,
     "metadata": {},
     "output_type": "execute_result"
    }
   ],
   "source": [
    "iris.head()"
   ]
  },
  {
   "cell_type": "code",
   "execution_count": 6,
   "id": "cad6c9ef-db22-43c1-8af7-cb24c6a1c2f5",
   "metadata": {},
   "outputs": [],
   "source": [
    "X = iris.copy().iloc[:, :-2].values\n",
    "y = pd.get_dummies(iris.copy().iloc[:, -1]).values"
   ]
  },
  {
   "cell_type": "code",
   "execution_count": 7,
   "id": "aac7d27c-3f94-4035-afd2-7fe837890389",
   "metadata": {},
   "outputs": [],
   "source": [
    "def HyperFilter(X):\n",
    "    k = 5\n",
    "    hyper_edges_list = []\n",
    "    n = X.shape[0]\n",
    "    for i in range(n):\n",
    "        dist = np.linalg.norm(X[i] - X, axis=1)\n",
    "        hyper_edge = np.zeros(n)\n",
    "        hyper_edge[np.argsort(dist)[:k + 1]] = 1\n",
    "        hyper_edges_list.append(hyper_edge.reshape(-1, 1))\n",
    "\n",
    "    H_preprocess = np.hstack(hyper_edges_list)\n",
    "    K1 = pd.DataFrame(H_preprocess)\n",
    "    K2 = pd.DataFrame(H_preprocess.T)\n",
    "    mask1 = np.invert(K1.duplicated().values)\n",
    "    mask2 = np.invert(K2.duplicated().values)\n",
    "    mask = mask1 & mask2\n",
    "    H_preprocess = H_preprocess[mask]\n",
    "    H_preprocess = H_preprocess[:, mask]\n",
    "    \n",
    "    return H_preprocess, mask"
   ]
  },
  {
   "cell_type": "code",
   "execution_count": 8,
   "id": "2799776a-b3a5-4197-9c18-24e95139a37a",
   "metadata": {},
   "outputs": [],
   "source": [
    "while True:\n",
    "    H_preprocess, mask = HyperFilter(X)\n",
    "    X = X[mask]\n",
    "    y = y[mask]\n",
    "    if np.linalg.det(H_preprocess) != 0:\n",
    "        break"
   ]
  },
  {
   "cell_type": "code",
   "execution_count": 9,
   "id": "69d9bdea-8dc3-4433-a5b2-e6fc4c572514",
   "metadata": {},
   "outputs": [],
   "source": [
    "H = H_preprocess\n",
    "H_inv = np.linalg.inv(H)"
   ]
  },
  {
   "cell_type": "code",
   "execution_count": 10,
   "id": "5924c1ed-8d20-4e21-94c0-7c65f10781ba",
   "metadata": {
    "tags": []
   },
   "outputs": [],
   "source": [
    "size = H.shape[0]\n",
    "D_v = np.eye(size) * H.sum(axis= 1)\n",
    "D_e = np.eye(size) * H.sum(axis= 0)"
   ]
  },
  {
   "cell_type": "code",
   "execution_count": 11,
   "id": "7e39c4cf-755d-43b8-a846-8d09f1fa3953",
   "metadata": {},
   "outputs": [],
   "source": [
    "D_v_inv = np.linalg.inv(D_v)\n",
    "D_e_inv = np.linalg.inv(D_e)\n",
    "D_v_inv_frac = sp.linalg.fractional_matrix_power(D_v, -0.5)\n",
    "D_e_inv_frac = sp.linalg.fractional_matrix_power(D_e, -0.5)\n",
    "H_inv = np.linalg.inv(H)"
   ]
  },
  {
   "cell_type": "code",
   "execution_count": 12,
   "id": "4e4ccaa5-0b85-47c1-bfcd-1b4a77ae322b",
   "metadata": {},
   "outputs": [],
   "source": [
    "S = D_v_inv_frac @ H @ D_e_inv @ H_inv @ D_v_inv_frac"
   ]
  },
  {
   "cell_type": "code",
   "execution_count": 13,
   "id": "1754f864-08b6-4ecb-922d-f6f8a8b48ec7",
   "metadata": {},
   "outputs": [],
   "source": [
    "n,m = X.shape"
   ]
  },
  {
   "cell_type": "code",
   "execution_count": 14,
   "id": "036ae804-f6e5-4f43-afd0-8d443230dbe7",
   "metadata": {},
   "outputs": [],
   "source": [
    "L = 20\n",
    "Theta = np.random.normal(size=(m, L))"
   ]
  },
  {
   "cell_type": "code",
   "execution_count": 15,
   "id": "05d62abb-547c-449c-b5a7-6fc8ff377d0c",
   "metadata": {},
   "outputs": [],
   "source": [
    "Z = sigmoid(S @ X @ Theta)"
   ]
  },
  {
   "cell_type": "code",
   "execution_count": 16,
   "id": "f1bb3800-854a-4fef-a089-82ef76b54521",
   "metadata": {},
   "outputs": [],
   "source": [
    "I = np.eye(L, L)\n",
    "M = np.eye(size, size)"
   ]
  },
  {
   "cell_type": "code",
   "execution_count": 17,
   "id": "37c78b43-4e2a-44a6-9e0d-9b7d9d793d2d",
   "metadata": {},
   "outputs": [],
   "source": [
    "beta = np.linalg.inv(Z.T @ S.T @ M @ S @ Z + 0.1 * I) @ Z.T @ S.T @ M @ y"
   ]
  },
  {
   "cell_type": "code",
   "execution_count": 18,
   "id": "24fc0d21-167d-4a12-bc82-761818de905f",
   "metadata": {},
   "outputs": [
    {
     "data": {
      "text/plain": [
       "array([[ 1.00979771,  1.01275333,  0.97209923],\n",
       "       [ 0.71057363,  0.29467359, -0.3809527 ],\n",
       "       [ 0.01432778,  0.81701503,  1.19719938],\n",
       "       [-0.59426908, -0.1664922 , -0.02876757],\n",
       "       [ 0.1494913 ,  0.1654928 ,  0.06580829],\n",
       "       [-0.20833405,  0.18723618,  0.09230054],\n",
       "       [ 0.55805946,  0.71346674,  1.04425988],\n",
       "       [ 0.36872689, -0.05955195, -0.41282428],\n",
       "       [ 0.22201146,  0.76541702,  1.24666235],\n",
       "       [ 0.50968917,  0.78760662,  0.64128471],\n",
       "       [-0.32376285,  0.10425458,  0.28456737],\n",
       "       [ 0.07084551, -0.24030395, -0.37071953],\n",
       "       [ 1.23124384,  0.7249081 ,  0.38066376],\n",
       "       [ 0.00914041, -0.49433043, -0.69900467],\n",
       "       [-0.38509672, -0.40242003, -0.16354491],\n",
       "       [ 0.86908977,  1.12202838,  1.22426951],\n",
       "       [ 0.5618319 ,  0.53788837,  0.21746985],\n",
       "       [ 0.93088737,  0.97334685,  0.76787787],\n",
       "       [ 0.52423851,  0.48357753,  0.4005204 ],\n",
       "       [-0.26537865,  0.1323029 ,  0.24594073]])"
      ]
     },
     "execution_count": 18,
     "metadata": {},
     "output_type": "execute_result"
    }
   ],
   "source": [
    "beta"
   ]
  },
  {
   "cell_type": "code",
   "execution_count": 19,
   "id": "69ca2f86-cc6f-48e1-8553-7587f241c67b",
   "metadata": {},
   "outputs": [
    {
     "data": {
      "text/plain": [
       "0.49557522123893805"
      ]
     },
     "execution_count": 19,
     "metadata": {},
     "output_type": "execute_result"
    }
   ],
   "source": [
    "sum(np.argmax(S @ Z @ beta, axis=1) == np.argmax(y, axis=1)) / y.shape[0]"
   ]
  }
 ],
 "metadata": {
  "kernelspec": {
   "display_name": "Python (AIML)",
   "language": "python",
   "name": "aiml"
  },
  "language_info": {
   "codemirror_mode": {
    "name": "ipython",
    "version": 3
   },
   "file_extension": ".py",
   "mimetype": "text/x-python",
   "name": "python",
   "nbconvert_exporter": "python",
   "pygments_lexer": "ipython3",
   "version": "3.7.9"
  }
 },
 "nbformat": 4,
 "nbformat_minor": 5
}
