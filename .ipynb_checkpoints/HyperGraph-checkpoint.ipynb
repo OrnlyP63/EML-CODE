{
 "cells": [
  {
   "cell_type": "code",
   "execution_count": 1,
   "id": "4f7c2d27-614e-475a-a3d9-c235f12b5607",
   "metadata": {},
   "outputs": [],
   "source": [
    "import seaborn as sns\n",
    "import numpy as np\n",
    "import pandas as pd\n",
    "from sklearn.model_selection import train_test_split\n",
    "import scipy as sp"
   ]
  },
  {
   "cell_type": "code",
   "execution_count": 2,
   "id": "310e11ad-b9f3-4d5a-80e0-d44412023c42",
   "metadata": {},
   "outputs": [],
   "source": [
    "def sigmoid(x):\n",
    "    z = np.exp(-x)\n",
    "\n",
    "    return 1 / (1 + z)"
   ]
  },
  {
   "cell_type": "code",
   "execution_count": 3,
   "id": "4fd0521a-2f81-4645-875d-a7a16fd7f499",
   "metadata": {},
   "outputs": [],
   "source": [
    "# Loading Iris Datasets:\n",
    "iris = sns.load_dataset(\"iris\")"
   ]
  },
  {
   "cell_type": "code",
   "execution_count": 4,
   "id": "5d803164-2cc7-4c21-8067-cd88a8001779",
   "metadata": {},
   "outputs": [
    {
     "data": {
      "text/html": [
       "<div>\n",
       "<style scoped>\n",
       "    .dataframe tbody tr th:only-of-type {\n",
       "        vertical-align: middle;\n",
       "    }\n",
       "\n",
       "    .dataframe tbody tr th {\n",
       "        vertical-align: top;\n",
       "    }\n",
       "\n",
       "    .dataframe thead th {\n",
       "        text-align: right;\n",
       "    }\n",
       "</style>\n",
       "<table border=\"1\" class=\"dataframe\">\n",
       "  <thead>\n",
       "    <tr style=\"text-align: right;\">\n",
       "      <th></th>\n",
       "      <th>sepal_length</th>\n",
       "      <th>sepal_width</th>\n",
       "      <th>petal_length</th>\n",
       "      <th>petal_width</th>\n",
       "      <th>species</th>\n",
       "    </tr>\n",
       "  </thead>\n",
       "  <tbody>\n",
       "    <tr>\n",
       "      <th>0</th>\n",
       "      <td>5.1</td>\n",
       "      <td>3.5</td>\n",
       "      <td>1.4</td>\n",
       "      <td>0.2</td>\n",
       "      <td>setosa</td>\n",
       "    </tr>\n",
       "    <tr>\n",
       "      <th>1</th>\n",
       "      <td>4.9</td>\n",
       "      <td>3.0</td>\n",
       "      <td>1.4</td>\n",
       "      <td>0.2</td>\n",
       "      <td>setosa</td>\n",
       "    </tr>\n",
       "    <tr>\n",
       "      <th>2</th>\n",
       "      <td>4.7</td>\n",
       "      <td>3.2</td>\n",
       "      <td>1.3</td>\n",
       "      <td>0.2</td>\n",
       "      <td>setosa</td>\n",
       "    </tr>\n",
       "    <tr>\n",
       "      <th>3</th>\n",
       "      <td>4.6</td>\n",
       "      <td>3.1</td>\n",
       "      <td>1.5</td>\n",
       "      <td>0.2</td>\n",
       "      <td>setosa</td>\n",
       "    </tr>\n",
       "    <tr>\n",
       "      <th>4</th>\n",
       "      <td>5.0</td>\n",
       "      <td>3.6</td>\n",
       "      <td>1.4</td>\n",
       "      <td>0.2</td>\n",
       "      <td>setosa</td>\n",
       "    </tr>\n",
       "  </tbody>\n",
       "</table>\n",
       "</div>"
      ],
      "text/plain": [
       "   sepal_length  sepal_width  petal_length  petal_width species\n",
       "0           5.1          3.5           1.4          0.2  setosa\n",
       "1           4.9          3.0           1.4          0.2  setosa\n",
       "2           4.7          3.2           1.3          0.2  setosa\n",
       "3           4.6          3.1           1.5          0.2  setosa\n",
       "4           5.0          3.6           1.4          0.2  setosa"
      ]
     },
     "execution_count": 4,
     "metadata": {},
     "output_type": "execute_result"
    }
   ],
   "source": [
    "iris.head()"
   ]
  },
  {
   "cell_type": "code",
   "execution_count": 5,
   "id": "a2a10993-ba9f-4781-a4b8-79c1f1ba18a9",
   "metadata": {},
   "outputs": [],
   "source": [
    "X = iris.copy().iloc[:, :-2].values\n",
    "y = pd.get_dummies(iris.copy().iloc[:, -1]).values"
   ]
  },
  {
   "cell_type": "code",
   "execution_count": 6,
   "id": "4f1fb9bb-fe2b-49c6-b327-641a1ec5e794",
   "metadata": {},
   "outputs": [],
   "source": [
    "k = 5"
   ]
  },
  {
   "cell_type": "code",
   "execution_count": 7,
   "id": "4860f790-ebc4-49c6-a84e-232d63fa15af",
   "metadata": {},
   "outputs": [],
   "source": [
    "hyper_edges_list = []\n",
    "n = X.shape[0]\n",
    "m = X.shape[1]\n",
    "for i in range(n):\n",
    "    dist = np.linalg.norm(X[i] - X, axis=1)\n",
    "    hyper_edge = np.zeros(n)\n",
    "    hyper_edge[np.argsort(dist)[:k + 1]] = 1\n",
    "    hyper_edges_list.append(hyper_edge.reshape(-1, 1))\n",
    "    \n",
    "H_preprocess = np.hstack(hyper_edges_list)\n",
    "while True:\n",
    "    shape_pre = H_preprocess.shape\n",
    "    unique = np.array(list(set(tuple(h.flatten()) for h in H_preprocess)))\n",
    "    unique2  = np.array(list(set(tuple(h.flatten()) for h in H_preprocess.T)))\n",
    "    mask1 = np.sort([np.argmax(np.sum(H_preprocess == u, axis=1)) for u in unique])\n",
    "    mask2 = np.sort([np.argmax(np.sum(H_preprocess.T == u, axis=1)) for u in unique2])\n",
    "    \n",
    "    mask = list(set(mask1) & set(mask2))\n",
    "    \n",
    "    H_preprocess = H_preprocess[mask]\n",
    "    H_preprocess = H_preprocess[:, mask]\n",
    "    \n",
    "    if H_preprocess.shape == shape_pre:\n",
    "        H = H_preprocess\n",
    "        break"
   ]
  },
  {
   "cell_type": "code",
   "execution_count": 8,
   "id": "17f39b02-0541-4800-a05d-5ad81196e57c",
   "metadata": {
    "tags": []
   },
   "outputs": [],
   "source": [
    "size = H.shape[0]\n",
    "D_v = np.eye(size) * H.sum(axis= 1)\n",
    "D_e = np.eye(size) * H.sum(axis= 0)"
   ]
  },
  {
   "cell_type": "code",
   "execution_count": 9,
   "id": "a6cfd9ac-37c7-466f-a966-c6cef007ad12",
   "metadata": {},
   "outputs": [],
   "source": [
    "D_v_inv = np.linalg.inv(D_v)\n",
    "D_e_inv = np.linalg.inv(D_e)\n",
    "D_v_inv_frac = sp.linalg.fractional_matrix_power(D_v, -0.5)\n",
    "D_e_inv_frac = sp.linalg.fractional_matrix_power(D_e, -0.5)\n",
    "H_inv = np.linalg.inv(H)"
   ]
  },
  {
   "cell_type": "code",
   "execution_count": 10,
   "id": "c1f84796-da95-4c3a-a030-7930accb24d0",
   "metadata": {},
   "outputs": [],
   "source": [
    "S = D_v_inv_frac @ H @ D_e_inv @ H_inv @ D_v_inv_frac"
   ]
  },
  {
   "cell_type": "code",
   "execution_count": 11,
   "id": "b3c0de31-5c77-4ec3-81ff-496a1137ed59",
   "metadata": {},
   "outputs": [],
   "source": [
    "X = X[mask]\n",
    "y = y[mask]"
   ]
  },
  {
   "cell_type": "code",
   "execution_count": 12,
   "id": "77c17159-181a-41ac-b26f-bcaf74fe5d19",
   "metadata": {},
   "outputs": [],
   "source": [
    "L = 50\n",
    "Theta = np.random.normal(size=(m, L))"
   ]
  },
  {
   "cell_type": "code",
   "execution_count": 13,
   "id": "2e05ad16-c254-45d0-9718-c9be95b5334d",
   "metadata": {},
   "outputs": [
    {
     "name": "stderr",
     "output_type": "stream",
     "text": [
      "C:\\Users\\ideapad 330\\.conda\\envs\\AIML\\lib\\site-packages\\ipykernel_launcher.py:2: RuntimeWarning: overflow encountered in exp\n",
      "  \n"
     ]
    }
   ],
   "source": [
    "Z = sigmoid(S @ X @ Theta)"
   ]
  },
  {
   "cell_type": "code",
   "execution_count": 14,
   "id": "6c39edb0-e503-4403-85fb-5422cb0d6d72",
   "metadata": {},
   "outputs": [],
   "source": [
    "I = np.eye(L, L)"
   ]
  },
  {
   "cell_type": "code",
   "execution_count": 15,
   "id": "6789e29f-057d-4852-9703-56b228246623",
   "metadata": {},
   "outputs": [
    {
     "data": {
      "text/plain": [
       "(119, 50)"
      ]
     },
     "execution_count": 15,
     "metadata": {},
     "output_type": "execute_result"
    }
   ],
   "source": [
    "Z.shape"
   ]
  },
  {
   "cell_type": "code",
   "execution_count": 16,
   "id": "cc1584c8-685d-451f-9291-e338990d8722",
   "metadata": {},
   "outputs": [],
   "source": [
    "beta = np.linalg.inv(Z.T @ S.T @ S @ Z + I) @ Z.T @ S.T @ y"
   ]
  },
  {
   "cell_type": "code",
   "execution_count": 17,
   "id": "f7185b3b-0f67-447a-afec-f4c8daed629e",
   "metadata": {},
   "outputs": [
    {
     "data": {
      "text/plain": [
       "array([[ 7.76936064e-14,  1.63868685e-13, -8.72057598e-13],\n",
       "       [ 1.00822158e-13,  6.09966287e-13, -6.99116566e-13],\n",
       "       [-6.03557332e-14,  5.76992914e-14,  8.83658657e-13],\n",
       "       [ 5.51063444e-14, -3.51807841e-13, -1.12443697e-12],\n",
       "       [-1.32071407e-13, -5.17519597e-13,  1.22673729e-12],\n",
       "       [-2.79416662e-14, -5.21279625e-14,  4.68953240e-13],\n",
       "       [-2.99984519e-14, -5.25269354e-14,  3.58590706e-13],\n",
       "       [ 7.90905231e-15,  2.88826843e-14, -1.44877608e-13],\n",
       "       [-5.00698203e-15, -4.48513138e-13, -3.43705896e-13],\n",
       "       [-6.26490241e-15, -5.29868514e-13, -4.66198501e-13],\n",
       "       [-5.69383356e-15,  3.25538096e-13,  4.33048843e-13],\n",
       "       [ 2.44671484e-15, -5.65246299e-14, -1.29797814e-13],\n",
       "       [ 1.13517675e-15,  1.92617324e-13,  2.13530127e-13],\n",
       "       [ 3.87511390e-15, -6.84861155e-14, -1.30576797e-13],\n",
       "       [ 2.17936109e-15,  1.31980511e-14, -1.00172911e-14],\n",
       "       [ 7.29628124e-15,  2.62527780e-13,  1.59386686e-13],\n",
       "       [-2.67764288e-15, -1.56512842e-13, -1.45919796e-13],\n",
       "       [-6.15446546e-15, -2.84916745e-13, -2.33609925e-13],\n",
       "       [ 2.91436050e-16, -5.67189407e-14, -6.03967784e-14],\n",
       "       [ 1.01276433e-14,  3.39182940e-13,  1.92189387e-13],\n",
       "       [-1.81207494e-15, -7.90973686e-14, -9.82668101e-14],\n",
       "       [ 1.06124097e-14,  5.45823965e-13,  4.30167258e-13],\n",
       "       [-1.04482982e-14, -2.81968072e-13, -1.47615618e-13],\n",
       "       [ 7.16280612e-15,  2.72697562e-13,  2.47839734e-13],\n",
       "       [-2.23666792e-15, -1.50210312e-14,  1.67676223e-14],\n",
       "       [ 5.03419732e-15,  2.06729380e-13,  1.47635075e-13],\n",
       "       [-1.33971554e-14, -7.11693648e-13, -5.24367710e-13],\n",
       "       [ 5.17433006e-15,  3.73082469e-13,  2.80699529e-13],\n",
       "       [ 5.17011689e-15,  1.80899692e-13,  1.28533443e-13],\n",
       "       [ 1.53708381e-14,  6.95024426e-13,  5.56389495e-13],\n",
       "       [ 4.04104961e-16,  1.22050235e-14, -2.92908824e-15],\n",
       "       [ 1.10253270e-14,  5.97124826e-13,  4.99615091e-13],\n",
       "       [ 1.70834358e-15,  8.91633999e-14,  7.05519483e-14],\n",
       "       [ 1.89525002e-15,  6.42023162e-14,  5.62755531e-14],\n",
       "       [-4.99447508e-15, -2.64960074e-13, -2.67012048e-13],\n",
       "       [-2.38860696e-15,  1.76422998e-14,  3.15060502e-14],\n",
       "       [ 6.53976998e-15,  3.53217182e-13,  2.93845841e-13],\n",
       "       [-1.00156341e-15, -4.94095096e-14, -4.79238363e-14],\n",
       "       [ 1.44266021e-15,  8.02929163e-14,  3.64880019e-14],\n",
       "       [ 9.08516387e-17, -7.32250391e-16,  7.20434745e-15],\n",
       "       [-1.69762059e-14, -8.95973781e-13, -7.15675173e-13],\n",
       "       [ 8.06903607e-16,  4.31478098e-14,  2.47733362e-14],\n",
       "       [ 1.59175242e-15,  7.95169359e-14,  8.15170185e-14],\n",
       "       [-4.22265278e-15, -2.67173111e-13, -2.23368497e-13],\n",
       "       [ 7.35283820e-15,  3.42937991e-13,  2.77565945e-13],\n",
       "       [-3.07955811e-15, -1.55688826e-13, -1.40976357e-13],\n",
       "       [-4.02106565e-15, -1.60871664e-13, -1.49665391e-13],\n",
       "       [-4.53891254e-15, -1.78651423e-13, -1.82477067e-13],\n",
       "       [-4.10718561e-15, -2.23066562e-13, -2.05441205e-13],\n",
       "       [ 1.85098247e-16, -1.42243487e-14,  1.95336639e-14]])"
      ]
     },
     "execution_count": 17,
     "metadata": {},
     "output_type": "execute_result"
    }
   ],
   "source": [
    "beta"
   ]
  },
  {
   "cell_type": "code",
   "execution_count": 18,
   "id": "2dadd3e0-a614-459e-aa0e-8f84ac19c786",
   "metadata": {},
   "outputs": [
    {
     "data": {
      "text/plain": [
       "array([2, 2, 2, 2, 2, 2, 2, 0, 2, 2, 2, 2, 2, 2, 2, 2, 0, 2, 2, 2, 2, 2,\n",
       "       0, 0, 2, 0, 2, 2, 2, 2, 2, 0, 2, 2, 2, 0, 2, 0, 2, 1, 2, 2, 0, 2,\n",
       "       1, 0, 2, 0, 1, 2, 2, 0, 0, 0, 2, 2, 2, 2, 0, 0, 2, 2, 2, 2, 0, 1,\n",
       "       0, 2, 0, 2, 2, 2, 2, 2, 0, 2, 1, 2, 0, 0, 2, 0, 2, 2, 0, 1, 0, 1,\n",
       "       0, 2, 2, 0, 0, 2, 2, 2, 2, 2, 2, 1, 0, 2, 2, 0, 0, 0, 2, 2, 0, 0,\n",
       "       0, 2, 2, 2, 2, 2, 0, 0, 0], dtype=int64)"
      ]
     },
     "execution_count": 18,
     "metadata": {},
     "output_type": "execute_result"
    }
   ],
   "source": [
    "np.argmax(S @ Z @ beta, axis=1)"
   ]
  },
  {
   "cell_type": "code",
   "execution_count": 19,
   "id": "ddf23dd3-0c43-4bce-ad03-1762539e2fdd",
   "metadata": {},
   "outputs": [
    {
     "data": {
      "text/plain": [
       "array([0, 0, 0, 0, 0, 0, 0, 0, 0, 0, 0, 0, 0, 0, 0, 0, 0, 0, 0, 0, 0, 0,\n",
       "       0, 0, 0, 0, 0, 0, 0, 0, 0, 0, 0, 0, 0, 0, 0, 0, 0, 0, 0, 0, 0, 0,\n",
       "       0, 0, 0, 0, 0, 0, 1, 1, 1, 1, 1, 1, 1, 1, 1, 1, 1, 1, 1, 1, 1, 1,\n",
       "       1, 1, 1, 1, 1, 1, 1, 1, 1, 1, 1, 1, 1, 1, 1, 1, 1, 1, 1, 1, 1, 1,\n",
       "       1, 1, 1, 1, 1, 1, 1, 1, 1, 1, 1, 1, 2, 2, 2, 2, 2, 2, 2, 2, 2, 2,\n",
       "       2, 2, 2, 2, 2, 2, 2, 2, 2], dtype=int64)"
      ]
     },
     "execution_count": 19,
     "metadata": {},
     "output_type": "execute_result"
    }
   ],
   "source": [
    "np.argmax(y, axis=1)"
   ]
  },
  {
   "cell_type": "code",
   "execution_count": null,
   "id": "421c4a06-d0ac-484b-853a-288352a68d71",
   "metadata": {},
   "outputs": [],
   "source": []
  }
 ],
 "metadata": {
  "kernelspec": {
   "display_name": "Python (AIML)",
   "language": "python",
   "name": "aiml"
  },
  "language_info": {
   "codemirror_mode": {
    "name": "ipython",
    "version": 3
   },
   "file_extension": ".py",
   "mimetype": "text/x-python",
   "name": "python",
   "nbconvert_exporter": "python",
   "pygments_lexer": "ipython3",
   "version": "3.7.9"
  }
 },
 "nbformat": 4,
 "nbformat_minor": 5
}
