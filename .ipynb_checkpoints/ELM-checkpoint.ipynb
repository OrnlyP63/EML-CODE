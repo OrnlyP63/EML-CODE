{
 "cells": [
  {
   "cell_type": "markdown",
   "id": "642a2f7d-9e15-420c-b9a8-06e977a4fa1c",
   "metadata": {},
   "source": [
    "# Extreme Learning Machine"
   ]
  },
  {
   "cell_type": "markdown",
   "id": "843d4327-13d6-4375-9824-9be4678b9d85",
   "metadata": {},
   "source": [
    "* Huang et al, 2004\n",
    "* Single Hidden Layer Feedforward Neural Networks"
   ]
  },
  {
   "cell_type": "markdown",
   "id": "9e5b2fd1-70e8-4ee1-82f0-1da72e6d51db",
   "metadata": {},
   "source": [
    "Let **input data** $X = [x_1, x_2, \\cdots, x_N]^T$, $x\\in \\mathbb{R}^M$,\n",
    "\n",
    "s.t. $N$ is a number of input data and $M$ is a number of feature data.\n",
    "\n",
    "Let $L$ be a number of **hidden node** , \n",
    "\n",
    "$D$ be a number of **output data**  \n",
    "\n",
    "and $\\beta \\in \\mathbb{R}^{L\\times D}, \\beta = [\\beta_1, \\beta_2, \\cdots, \\beta_L]^T$ be **weight** between hidden node and output data."
   ]
  },
  {
   "cell_type": "code",
   "execution_count": 1,
   "id": "a041a2d4-3ec7-45f0-88a0-fb0a6d84c3dc",
   "metadata": {},
   "outputs": [],
   "source": [
    "import numpy as np\n",
    "import pandas as pd"
   ]
  },
  {
   "cell_type": "markdown",
   "id": "c7ab219f-f0fc-49a4-9a26-5fc153a95bc1",
   "metadata": {},
   "source": [
    "activate function\n",
    "$$h(x) = g(x, w, c)$$\n",
    "\n",
    "* Sigmoid Function\n",
    "$$g(x, w, c) = \\frac{1}{1 + e^{-(wx + c)}}$$\n",
    "\n",
    "* Gaussian Function \n",
    "$$g(x, w, c) = e^{-c\\|x-w\\|}$$\n",
    "\n",
    "* Hyperbolic Tangent Function\n",
    "$$g(x, w, c) = \\frac{1 - e^{-(wx+c)}}{1 + e^{-(wx+c)}}$$"
   ]
  },
  {
   "cell_type": "code",
   "execution_count": 2,
   "id": "c39dc446-cbec-4c9d-9d4c-2fa0f878e9a7",
   "metadata": {},
   "outputs": [],
   "source": [
    "def sigmoid(x, w, c):\n",
    "    return 1 / (1 + np.exp(-(np.dot(x, w) + c)))\n",
    "\n",
    "def gaussian(x, w, c):\n",
    "    return np.exp(-c * np.linalg.norm(x - w, 'fro'))\n",
    "\n",
    "def hyperbolic_tangent(x, w, c):\n",
    "    return (1 - np.exp(-(np.dot(w, x) + c)))/(1 + np.exp(-(np.dot(x, w) + c)))"
   ]
  },
  {
   "cell_type": "code",
   "execution_count": 3,
   "id": "fe2cc60b",
   "metadata": {},
   "outputs": [],
   "source": [
    "#Get function\n",
    "def getActivation(name):\n",
    "    return {\n",
    "        'sigmoid': sigmoid,\n",
    "        'gaussian': gaussian,\n",
    "        'hyperbolic_tangent': hyperbolic_tangent,\n",
    "    }[name]"
   ]
  },
  {
   "cell_type": "markdown",
   "id": "ac4e7cdd-08c8-4eb6-96d6-30f6ce7d0ade",
   "metadata": {},
   "source": [
    "### Mdel \n",
    "\\begin{align*} \n",
    "f(x) &=  \\sum_{i=1}^L \\beta_i h_i(x) \\\\ \n",
    " &=  h_i(x)\\beta\n",
    "\\end{align*}\n",
    "\n",
    "Let $H$ be an activat function matrix.\n",
    "\n",
    "$$H = \\begin{bmatrix}\n",
    "h(x_1) & \\\\\n",
    "\\vdots & \\\\\n",
    "h(x_N) & \n",
    "\\end{bmatrix} = \n",
    "\\begin{bmatrix}\n",
    "h_1(x_1) & \\cdots & h_L(x_1) \\\\\n",
    "\\vdots & \\vdots & \\vdots \\\\\n",
    "h_1(x_N) & \\cdots & h_L(x_N)\n",
    "\\end{bmatrix}$$\n",
    "\n",
    "$$H =  \n",
    "\\begin{bmatrix}\n",
    "g(w_1\\cdot x_1 + c_1) & \\cdots & g(w_L\\cdot x_1 + c_L) \\\\\n",
    "\\vdots & \\vdots & \\vdots \\\\\n",
    "g(w_1\\cdot x_N + c_1) & \\cdots & g(w_L\\cdot x_N + c_L)\n",
    "\\end{bmatrix}_{N\\times L}$$\n",
    "\n",
    "and let $Y \\in \\mathbb{R}^{N\\times D}$  be an output matrix.\n",
    "\n",
    "$$Y = \\begin{bmatrix}\n",
    "y_1 \\\\\n",
    "\\vdots \\\\\n",
    "y_N\n",
    "\\end{bmatrix}\n",
    "= \n",
    "\\begin{bmatrix}\n",
    "y_11 & \\cdots & y_{1D} \\\\\n",
    "\\vdots & \\vdots & \\vdots \\\\\n",
    "y_N1 & \\cdots & y_{ND} \n",
    "\\end{bmatrix}$$"
   ]
  },
  {
   "cell_type": "code",
   "execution_count": 4,
   "id": "107ab829",
   "metadata": {},
   "outputs": [],
   "source": [
    "x = np.random.rand(10, 5)"
   ]
  },
  {
   "cell_type": "code",
   "execution_count": 5,
   "id": "853e8052",
   "metadata": {},
   "outputs": [],
   "source": [
    "L = 2\n",
    "M = x.shape[1]\n",
    "w = np.random.normal(size=(M, L))\n",
    "c = np.random.normal(size=(L))"
   ]
  },
  {
   "cell_type": "code",
   "execution_count": 6,
   "id": "6ff3ead1",
   "metadata": {},
   "outputs": [
    {
     "data": {
      "text/plain": [
       "array([[0.29937212, 0.34926431, 0.72280354, 0.10369867, 0.03293492],\n",
       "       [0.32241137, 0.49245794, 0.20098303, 0.85968763, 0.66317051],\n",
       "       [0.30045341, 0.38701065, 0.77354309, 0.19583069, 0.01478452],\n",
       "       [0.5886273 , 0.34771763, 0.88466116, 0.58820682, 0.24402686],\n",
       "       [0.10739046, 0.19089319, 0.92735433, 0.75041296, 0.21279248],\n",
       "       [0.64824813, 0.38467016, 0.57781509, 0.80134625, 0.48959671],\n",
       "       [0.63418568, 0.97705802, 0.00592538, 0.15391633, 0.98192962],\n",
       "       [0.02554223, 0.93609574, 0.48551297, 0.21496528, 0.02208028],\n",
       "       [0.88322273, 0.44525438, 0.97835224, 0.40757616, 0.6283355 ],\n",
       "       [0.43743962, 0.58341947, 0.81397852, 0.27301867, 0.45653337]])"
      ]
     },
     "execution_count": 6,
     "metadata": {},
     "output_type": "execute_result"
    }
   ],
   "source": [
    "x"
   ]
  },
  {
   "cell_type": "code",
   "execution_count": 7,
   "id": "881929a6",
   "metadata": {},
   "outputs": [
    {
     "data": {
      "text/plain": [
       "array([[0.89065459, 0.73220386],\n",
       "       [0.40063727, 0.44344866],\n",
       "       [0.09428806, 0.51616951],\n",
       "       [0.27317769, 0.05220332],\n",
       "       [0.06365799, 0.38798314]])"
      ]
     },
     "execution_count": 7,
     "metadata": {},
     "output_type": "execute_result"
    }
   ],
   "source": [
    "w"
   ]
  },
  {
   "cell_type": "code",
   "execution_count": 8,
   "id": "219e2f33",
   "metadata": {},
   "outputs": [
    {
     "data": {
      "text/plain": [
       "array([0.85275404, 0.33936095])"
      ]
     },
     "execution_count": 8,
     "metadata": {},
     "output_type": "execute_result"
    }
   ],
   "source": [
    "c"
   ]
  },
  {
   "cell_type": "code",
   "execution_count": 9,
   "id": "61e3b296",
   "metadata": {},
   "outputs": [
    {
     "data": {
      "text/plain": [
       "array([[1.35789597, 1.10472392],\n",
       "       [1.63322209, 1.19973045],\n",
       "       [1.40277874, 1.14621197],\n",
       "       [1.77595851, 1.50657082],\n",
       "       [1.33086123, 1.10304997],\n",
       "       [1.88879013, 1.51463093],\n",
       "       [1.91415314, 1.6290548 ],\n",
       "       [1.35644556, 1.04356914],\n",
       "       [2.06137214, 1.95356351],\n",
       "       [1.65649428, 1.52990313]])"
      ]
     },
     "execution_count": 9,
     "metadata": {},
     "output_type": "execute_result"
    }
   ],
   "source": [
    "np.dot(x, w) + c"
   ]
  },
  {
   "cell_type": "code",
   "execution_count": 10,
   "id": "147b465b",
   "metadata": {},
   "outputs": [
    {
     "data": {
      "text/plain": [
       "array([[0.79541752, 0.75114418],\n",
       "       [0.83661055, 0.76847683],\n",
       "       [0.80262446, 0.75881834],\n",
       "       [0.85519711, 0.81855245],\n",
       "       [0.79098306, 0.75083114],\n",
       "       [0.86861752, 0.8197465 ],\n",
       "       [0.87148501, 0.83604011],\n",
       "       [0.7951814 , 0.73953809],\n",
       "       [0.88709168, 0.87583469],\n",
       "       [0.83976684, 0.82199214]])"
      ]
     },
     "execution_count": 10,
     "metadata": {},
     "output_type": "execute_result"
    }
   ],
   "source": [
    "sigmoid(x, w, c)"
   ]
  },
  {
   "cell_type": "code",
   "execution_count": 11,
   "id": "3bc864a7-3649-4a52-b785-a6a9883828b3",
   "metadata": {},
   "outputs": [],
   "source": [
    "def H(x, activate, L):\n",
    "    M = x.shape[1]\n",
    "    w = np.random.normal(size=(M, L))\n",
    "    c = np.random.rand(L)\n",
    "    act = getActivation(activate)\n",
    "    return act(x, w, c)"
   ]
  },
  {
   "cell_type": "markdown",
   "id": "7e707bd7-a7e5-48bc-9d93-2d67870f6cd3",
   "metadata": {},
   "source": [
    "### Objective\n",
    "$$\\underset{\\beta}{\\mathrm{min}} \\|H\\beta - Y\\|^2$$"
   ]
  },
  {
   "cell_type": "markdown",
   "id": "302d0b33-74ee-4b12-9d28-9283ed581408",
   "metadata": {},
   "source": [
    "So,\n",
    "\n",
    "$$\\beta = H^\\dagger Y$$\n",
    "\n",
    "where $H^\\dagger$ is psudo inverse matrix of H.\n",
    "$$H^\\dagger = (H^TH)^{-1}H^T$$"
   ]
  },
  {
   "cell_type": "markdown",
   "id": "b97429e0-d329-4ac6-8a7e-7dcfd3477ae9",
   "metadata": {},
   "source": [
    "#### Regularize Model"
   ]
  },
  {
   "cell_type": "markdown",
   "id": "55de1f74-8d10-4936-988d-37e29facd6f1",
   "metadata": {},
   "source": [
    "$$\\underset{\\beta}{\\mathrm{min}} \\frac{C}{2}\\|H\\beta - Y\\|^2 + \\frac{1}{2}\\|\\beta\\|$$\n",
    "\n",
    "where $C$ is a hyperparameter."
   ]
  },
  {
   "cell_type": "markdown",
   "id": "449954d1-0feb-4087-813d-5f82fe17ca84",
   "metadata": {},
   "source": [
    "\\begin{align*} \n",
    "\\nabla_{\\beta}\\big(\\frac{C}{2}\\|H\\beta - Y\\|^2 + \\frac{1}{2}\\|\\beta\\|\\big) & = 0\\\\\\\\\n",
    "CH^T(H\\beta - Y) + \\beta & = 0\\\\\\\\\n",
    "CH^TH\\beta - CH^TY + \\beta & = 0\\\\\\\\\n",
    "(CH^TH + I)\\beta & = CH^TY \\\\\\\\\n",
    "\\beta & = (H^TH + \\frac{I}{C})^{-1}H^TY\n",
    "\\end{align*} "
   ]
  },
  {
   "cell_type": "code",
   "execution_count": 12,
   "id": "39dfd44b",
   "metadata": {},
   "outputs": [],
   "source": [
    "C = 1\n",
    "I = np.eye(L, L) \n",
    "H = sigmoid(x, w, c)\n",
    "Y = np.random.rand(10, 1)"
   ]
  },
  {
   "cell_type": "code",
   "execution_count": 13,
   "id": "acf9d374",
   "metadata": {},
   "outputs": [
    {
     "data": {
      "text/plain": [
       "array([[1., 0.],\n",
       "       [0., 1.]])"
      ]
     },
     "execution_count": 13,
     "metadata": {},
     "output_type": "execute_result"
    }
   ],
   "source": [
    "I"
   ]
  },
  {
   "cell_type": "code",
   "execution_count": 14,
   "id": "3709d097",
   "metadata": {
    "scrolled": true
   },
   "outputs": [
    {
     "data": {
      "text/plain": [
       "array([[0.1677238 ],\n",
       "       [0.01480375],\n",
       "       [0.16060866],\n",
       "       [0.61763789],\n",
       "       [0.31681444],\n",
       "       [0.96845021],\n",
       "       [0.14902667],\n",
       "       [0.83422112],\n",
       "       [0.3922468 ],\n",
       "       [0.77740615]])"
      ]
     },
     "execution_count": 14,
     "metadata": {},
     "output_type": "execute_result"
    }
   ],
   "source": [
    "Y"
   ]
  },
  {
   "cell_type": "code",
   "execution_count": 15,
   "id": "3b05b76f",
   "metadata": {},
   "outputs": [],
   "source": [
    "Beta = np.linalg.inv(H.T @ H + I/C) @ H.T @ Y"
   ]
  },
  {
   "cell_type": "code",
   "execution_count": 16,
   "id": "08cce5ed",
   "metadata": {
    "scrolled": true
   },
   "outputs": [
    {
     "data": {
      "text/plain": [
       "array([[0.25462301],\n",
       "       [0.2498493 ]])"
      ]
     },
     "execution_count": 16,
     "metadata": {},
     "output_type": "execute_result"
    }
   ],
   "source": [
    "Beta"
   ]
  },
  {
   "cell_type": "code",
   "execution_count": 17,
   "id": "c0591ce8",
   "metadata": {
    "scrolled": true
   },
   "outputs": [
    {
     "data": {
      "text/plain": [
       "array([[0.39020445],\n",
       "       [0.4050237 ],\n",
       "       [0.39395689],\n",
       "       [0.42226762],\n",
       "       [0.38899712],\n",
       "       [0.4259831 ],\n",
       "       [0.43078417],\n",
       "       [0.38724456],\n",
       "       [0.44470064],\n",
       "       [0.41919812]])"
      ]
     },
     "execution_count": 17,
     "metadata": {},
     "output_type": "execute_result"
    }
   ],
   "source": [
    "H @ Beta"
   ]
  },
  {
   "cell_type": "markdown",
   "id": "cc43a15a",
   "metadata": {},
   "source": [
    "# Test in Real Data"
   ]
  },
  {
   "cell_type": "code",
   "execution_count": 18,
   "id": "20afdb00",
   "metadata": {},
   "outputs": [],
   "source": [
    "import seaborn as sns\n",
    "import numpy as np\n",
    "import pandas as pd\n",
    "from sklearn.model_selection import train_test_split"
   ]
  },
  {
   "cell_type": "code",
   "execution_count": 19,
   "id": "911fef85",
   "metadata": {},
   "outputs": [],
   "source": [
    "# Loading Iris Datasets:\n",
    "iris = sns.load_dataset(\"iris\")"
   ]
  },
  {
   "cell_type": "code",
   "execution_count": 20,
   "id": "fba606f6",
   "metadata": {
    "scrolled": true
   },
   "outputs": [
    {
     "data": {
      "text/html": [
       "<div>\n",
       "<style scoped>\n",
       "    .dataframe tbody tr th:only-of-type {\n",
       "        vertical-align: middle;\n",
       "    }\n",
       "\n",
       "    .dataframe tbody tr th {\n",
       "        vertical-align: top;\n",
       "    }\n",
       "\n",
       "    .dataframe thead th {\n",
       "        text-align: right;\n",
       "    }\n",
       "</style>\n",
       "<table border=\"1\" class=\"dataframe\">\n",
       "  <thead>\n",
       "    <tr style=\"text-align: right;\">\n",
       "      <th></th>\n",
       "      <th>sepal_length</th>\n",
       "      <th>sepal_width</th>\n",
       "      <th>petal_length</th>\n",
       "      <th>petal_width</th>\n",
       "      <th>species</th>\n",
       "    </tr>\n",
       "  </thead>\n",
       "  <tbody>\n",
       "    <tr>\n",
       "      <th>0</th>\n",
       "      <td>5.1</td>\n",
       "      <td>3.5</td>\n",
       "      <td>1.4</td>\n",
       "      <td>0.2</td>\n",
       "      <td>setosa</td>\n",
       "    </tr>\n",
       "    <tr>\n",
       "      <th>1</th>\n",
       "      <td>4.9</td>\n",
       "      <td>3.0</td>\n",
       "      <td>1.4</td>\n",
       "      <td>0.2</td>\n",
       "      <td>setosa</td>\n",
       "    </tr>\n",
       "    <tr>\n",
       "      <th>2</th>\n",
       "      <td>4.7</td>\n",
       "      <td>3.2</td>\n",
       "      <td>1.3</td>\n",
       "      <td>0.2</td>\n",
       "      <td>setosa</td>\n",
       "    </tr>\n",
       "    <tr>\n",
       "      <th>3</th>\n",
       "      <td>4.6</td>\n",
       "      <td>3.1</td>\n",
       "      <td>1.5</td>\n",
       "      <td>0.2</td>\n",
       "      <td>setosa</td>\n",
       "    </tr>\n",
       "    <tr>\n",
       "      <th>4</th>\n",
       "      <td>5.0</td>\n",
       "      <td>3.6</td>\n",
       "      <td>1.4</td>\n",
       "      <td>0.2</td>\n",
       "      <td>setosa</td>\n",
       "    </tr>\n",
       "  </tbody>\n",
       "</table>\n",
       "</div>"
      ],
      "text/plain": [
       "   sepal_length  sepal_width  petal_length  petal_width species\n",
       "0           5.1          3.5           1.4          0.2  setosa\n",
       "1           4.9          3.0           1.4          0.2  setosa\n",
       "2           4.7          3.2           1.3          0.2  setosa\n",
       "3           4.6          3.1           1.5          0.2  setosa\n",
       "4           5.0          3.6           1.4          0.2  setosa"
      ]
     },
     "execution_count": 20,
     "metadata": {},
     "output_type": "execute_result"
    }
   ],
   "source": [
    "iris.head()"
   ]
  },
  {
   "cell_type": "code",
   "execution_count": 21,
   "id": "55829984",
   "metadata": {},
   "outputs": [],
   "source": [
    "X = iris.iloc[:, :4]\n",
    "y = iris.iloc[:, -1]\n",
    "y = pd.get_dummies(y)"
   ]
  },
  {
   "cell_type": "code",
   "execution_count": 23,
   "id": "88c2a8b4",
   "metadata": {},
   "outputs": [
    {
     "data": {
      "text/html": [
       "<div>\n",
       "<style scoped>\n",
       "    .dataframe tbody tr th:only-of-type {\n",
       "        vertical-align: middle;\n",
       "    }\n",
       "\n",
       "    .dataframe tbody tr th {\n",
       "        vertical-align: top;\n",
       "    }\n",
       "\n",
       "    .dataframe thead th {\n",
       "        text-align: right;\n",
       "    }\n",
       "</style>\n",
       "<table border=\"1\" class=\"dataframe\">\n",
       "  <thead>\n",
       "    <tr style=\"text-align: right;\">\n",
       "      <th></th>\n",
       "      <th>sepal_length</th>\n",
       "      <th>sepal_width</th>\n",
       "      <th>petal_length</th>\n",
       "      <th>petal_width</th>\n",
       "    </tr>\n",
       "  </thead>\n",
       "  <tbody>\n",
       "    <tr>\n",
       "      <th>0</th>\n",
       "      <td>5.1</td>\n",
       "      <td>3.5</td>\n",
       "      <td>1.4</td>\n",
       "      <td>0.2</td>\n",
       "    </tr>\n",
       "    <tr>\n",
       "      <th>1</th>\n",
       "      <td>4.9</td>\n",
       "      <td>3.0</td>\n",
       "      <td>1.4</td>\n",
       "      <td>0.2</td>\n",
       "    </tr>\n",
       "    <tr>\n",
       "      <th>2</th>\n",
       "      <td>4.7</td>\n",
       "      <td>3.2</td>\n",
       "      <td>1.3</td>\n",
       "      <td>0.2</td>\n",
       "    </tr>\n",
       "    <tr>\n",
       "      <th>3</th>\n",
       "      <td>4.6</td>\n",
       "      <td>3.1</td>\n",
       "      <td>1.5</td>\n",
       "      <td>0.2</td>\n",
       "    </tr>\n",
       "    <tr>\n",
       "      <th>4</th>\n",
       "      <td>5.0</td>\n",
       "      <td>3.6</td>\n",
       "      <td>1.4</td>\n",
       "      <td>0.2</td>\n",
       "    </tr>\n",
       "    <tr>\n",
       "      <th>...</th>\n",
       "      <td>...</td>\n",
       "      <td>...</td>\n",
       "      <td>...</td>\n",
       "      <td>...</td>\n",
       "    </tr>\n",
       "    <tr>\n",
       "      <th>145</th>\n",
       "      <td>6.7</td>\n",
       "      <td>3.0</td>\n",
       "      <td>5.2</td>\n",
       "      <td>2.3</td>\n",
       "    </tr>\n",
       "    <tr>\n",
       "      <th>146</th>\n",
       "      <td>6.3</td>\n",
       "      <td>2.5</td>\n",
       "      <td>5.0</td>\n",
       "      <td>1.9</td>\n",
       "    </tr>\n",
       "    <tr>\n",
       "      <th>147</th>\n",
       "      <td>6.5</td>\n",
       "      <td>3.0</td>\n",
       "      <td>5.2</td>\n",
       "      <td>2.0</td>\n",
       "    </tr>\n",
       "    <tr>\n",
       "      <th>148</th>\n",
       "      <td>6.2</td>\n",
       "      <td>3.4</td>\n",
       "      <td>5.4</td>\n",
       "      <td>2.3</td>\n",
       "    </tr>\n",
       "    <tr>\n",
       "      <th>149</th>\n",
       "      <td>5.9</td>\n",
       "      <td>3.0</td>\n",
       "      <td>5.1</td>\n",
       "      <td>1.8</td>\n",
       "    </tr>\n",
       "  </tbody>\n",
       "</table>\n",
       "<p>150 rows × 4 columns</p>\n",
       "</div>"
      ],
      "text/plain": [
       "     sepal_length  sepal_width  petal_length  petal_width\n",
       "0             5.1          3.5           1.4          0.2\n",
       "1             4.9          3.0           1.4          0.2\n",
       "2             4.7          3.2           1.3          0.2\n",
       "3             4.6          3.1           1.5          0.2\n",
       "4             5.0          3.6           1.4          0.2\n",
       "..            ...          ...           ...          ...\n",
       "145           6.7          3.0           5.2          2.3\n",
       "146           6.3          2.5           5.0          1.9\n",
       "147           6.5          3.0           5.2          2.0\n",
       "148           6.2          3.4           5.4          2.3\n",
       "149           5.9          3.0           5.1          1.8\n",
       "\n",
       "[150 rows x 4 columns]"
      ]
     },
     "execution_count": 23,
     "metadata": {},
     "output_type": "execute_result"
    }
   ],
   "source": [
    "X"
   ]
  },
  {
   "cell_type": "code",
   "execution_count": 22,
   "id": "d944025e",
   "metadata": {},
   "outputs": [
    {
     "data": {
      "text/html": [
       "<div>\n",
       "<style scoped>\n",
       "    .dataframe tbody tr th:only-of-type {\n",
       "        vertical-align: middle;\n",
       "    }\n",
       "\n",
       "    .dataframe tbody tr th {\n",
       "        vertical-align: top;\n",
       "    }\n",
       "\n",
       "    .dataframe thead th {\n",
       "        text-align: right;\n",
       "    }\n",
       "</style>\n",
       "<table border=\"1\" class=\"dataframe\">\n",
       "  <thead>\n",
       "    <tr style=\"text-align: right;\">\n",
       "      <th></th>\n",
       "      <th>setosa</th>\n",
       "      <th>versicolor</th>\n",
       "      <th>virginica</th>\n",
       "    </tr>\n",
       "  </thead>\n",
       "  <tbody>\n",
       "    <tr>\n",
       "      <th>0</th>\n",
       "      <td>1</td>\n",
       "      <td>0</td>\n",
       "      <td>0</td>\n",
       "    </tr>\n",
       "    <tr>\n",
       "      <th>1</th>\n",
       "      <td>1</td>\n",
       "      <td>0</td>\n",
       "      <td>0</td>\n",
       "    </tr>\n",
       "    <tr>\n",
       "      <th>2</th>\n",
       "      <td>1</td>\n",
       "      <td>0</td>\n",
       "      <td>0</td>\n",
       "    </tr>\n",
       "    <tr>\n",
       "      <th>3</th>\n",
       "      <td>1</td>\n",
       "      <td>0</td>\n",
       "      <td>0</td>\n",
       "    </tr>\n",
       "    <tr>\n",
       "      <th>4</th>\n",
       "      <td>1</td>\n",
       "      <td>0</td>\n",
       "      <td>0</td>\n",
       "    </tr>\n",
       "    <tr>\n",
       "      <th>...</th>\n",
       "      <td>...</td>\n",
       "      <td>...</td>\n",
       "      <td>...</td>\n",
       "    </tr>\n",
       "    <tr>\n",
       "      <th>145</th>\n",
       "      <td>0</td>\n",
       "      <td>0</td>\n",
       "      <td>1</td>\n",
       "    </tr>\n",
       "    <tr>\n",
       "      <th>146</th>\n",
       "      <td>0</td>\n",
       "      <td>0</td>\n",
       "      <td>1</td>\n",
       "    </tr>\n",
       "    <tr>\n",
       "      <th>147</th>\n",
       "      <td>0</td>\n",
       "      <td>0</td>\n",
       "      <td>1</td>\n",
       "    </tr>\n",
       "    <tr>\n",
       "      <th>148</th>\n",
       "      <td>0</td>\n",
       "      <td>0</td>\n",
       "      <td>1</td>\n",
       "    </tr>\n",
       "    <tr>\n",
       "      <th>149</th>\n",
       "      <td>0</td>\n",
       "      <td>0</td>\n",
       "      <td>1</td>\n",
       "    </tr>\n",
       "  </tbody>\n",
       "</table>\n",
       "<p>150 rows × 3 columns</p>\n",
       "</div>"
      ],
      "text/plain": [
       "     setosa  versicolor  virginica\n",
       "0         1           0          0\n",
       "1         1           0          0\n",
       "2         1           0          0\n",
       "3         1           0          0\n",
       "4         1           0          0\n",
       "..      ...         ...        ...\n",
       "145       0           0          1\n",
       "146       0           0          1\n",
       "147       0           0          1\n",
       "148       0           0          1\n",
       "149       0           0          1\n",
       "\n",
       "[150 rows x 3 columns]"
      ]
     },
     "execution_count": 22,
     "metadata": {},
     "output_type": "execute_result"
    }
   ],
   "source": [
    "y"
   ]
  },
  {
   "cell_type": "code",
   "execution_count": 24,
   "id": "ba1e65c7",
   "metadata": {},
   "outputs": [],
   "source": [
    "X_train, X_test, y_train, y_test = train_test_split(X, y, test_size=0.30, random_state=0)"
   ]
  },
  {
   "cell_type": "code",
   "execution_count": 25,
   "id": "96406e07",
   "metadata": {},
   "outputs": [],
   "source": [
    "class ELM:\n",
    "    def __init__ (self,num_hidden, activation='sigmoid'):\n",
    "        self.activation = getActivation(activation)\n",
    "        self.L = num_hidden\n",
    "        \n",
    "    def fit(self,  X,  y, C=1):\n",
    "        self.X = X\n",
    "        self.Y = y\n",
    "        self.I = np.eye(self.L, self.L) \n",
    "        self.M = X.shape[1]\n",
    "        self.w =  np.random.normal(size=(self.M, self.L))\n",
    "        self.c = np.random.normal(size=(self.L))\n",
    "        self.C = C\n",
    "        \n",
    "        self.H = self.activation(self.X, self.w, self.c)\n",
    "        self.Beta = np.linalg.inv(self.H.T @ self.H + self.I /self.C) @ self.H.T @ self.Y\n",
    "        \n",
    "    def predict(self, X):\n",
    "        H_pre = self.activation(X, self.w, self.c)\n",
    "        return H_pre @ self.Beta"
   ]
  },
  {
   "cell_type": "code",
   "execution_count": 26,
   "id": "61bbd37b",
   "metadata": {},
   "outputs": [],
   "source": [
    "model = ELM(15)"
   ]
  },
  {
   "cell_type": "code",
   "execution_count": 27,
   "id": "02d64f0e",
   "metadata": {},
   "outputs": [],
   "source": [
    "model.fit(X_train, y_train, C=1.2)"
   ]
  },
  {
   "cell_type": "code",
   "execution_count": 28,
   "id": "58e8cc1b",
   "metadata": {},
   "outputs": [],
   "source": [
    "y_pred = model.predict(X_test)"
   ]
  },
  {
   "cell_type": "code",
   "execution_count": 29,
   "id": "681f5482",
   "metadata": {},
   "outputs": [
    {
     "data": {
      "text/plain": [
       "0.8888888888888888"
      ]
     },
     "execution_count": 29,
     "metadata": {},
     "output_type": "execute_result"
    }
   ],
   "source": [
    "sum(np.argmax(y_pred.values, axis=1) == np.argmax(y_test.values, axis=1)) / len(y_pred)"
   ]
  },
  {
   "cell_type": "code",
   "execution_count": 30,
   "id": "e1405f00",
   "metadata": {},
   "outputs": [],
   "source": [
    "from sklearn.metrics import confusion_matrix"
   ]
  },
  {
   "cell_type": "code",
   "execution_count": 31,
   "id": "fb567116",
   "metadata": {},
   "outputs": [
    {
     "data": {
      "text/plain": [
       "array([[16,  0,  0],\n",
       "       [ 0, 13,  5],\n",
       "       [ 0,  0, 11]], dtype=int64)"
      ]
     },
     "execution_count": 31,
     "metadata": {},
     "output_type": "execute_result"
    }
   ],
   "source": [
    "confusion_matrix(np.argmax(y_test.values, axis=1), np.argmax(y_pred.values, axis=1), labels=[0, 1, 2])"
   ]
  },
  {
   "cell_type": "code",
   "execution_count": null,
   "id": "09f78420",
   "metadata": {},
   "outputs": [],
   "source": []
  }
 ],
 "metadata": {
  "kernelspec": {
   "display_name": "Python 3",
   "language": "python",
   "name": "python3"
  },
  "language_info": {
   "codemirror_mode": {
    "name": "ipython",
    "version": 3
   },
   "file_extension": ".py",
   "mimetype": "text/x-python",
   "name": "python",
   "nbconvert_exporter": "python",
   "pygments_lexer": "ipython3",
   "version": "3.7.9"
  }
 },
 "nbformat": 4,
 "nbformat_minor": 5
}
