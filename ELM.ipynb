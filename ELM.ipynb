{
 "cells": [
  {
   "cell_type": "markdown",
   "id": "642a2f7d-9e15-420c-b9a8-06e977a4fa1c",
   "metadata": {},
   "source": [
    "# Extreme Learning Machine"
   ]
  },
  {
   "cell_type": "markdown",
   "id": "843d4327-13d6-4375-9824-9be4678b9d85",
   "metadata": {},
   "source": [
    "* Huang et al, 2004\n",
    "* Single Hidden Layer Feedforward Neural Networks"
   ]
  },
  {
   "cell_type": "markdown",
   "id": "9e5b2fd1-70e8-4ee1-82f0-1da72e6d51db",
   "metadata": {},
   "source": [
    "Let **input data** $X = [x_1, x_2, \\cdots, x_N]^T$, $x\\in \\mathbb{R}^M$,\n",
    "\n",
    "s.t. $N$ is a number of input data and $M$ is a number of feature data.\n",
    "\n",
    "Let $L$ be a number of **hidden node** , \n",
    "\n",
    "$D$ be a number of **output data**  \n",
    "\n",
    "and $\\beta \\in \\mathbb{R}^{L\\times D}, \\beta = [\\beta_1, \\beta_2, \\cdots, \\beta_L]^T$ be **weight** between hidden node and output data."
   ]
  },
  {
   "cell_type": "code",
   "execution_count": 1,
   "id": "a041a2d4-3ec7-45f0-88a0-fb0a6d84c3dc",
   "metadata": {},
   "outputs": [],
   "source": [
    "import numpy as np\n",
    "import pandas as pd"
   ]
  },
  {
   "cell_type": "markdown",
   "id": "c7ab219f-f0fc-49a4-9a26-5fc153a95bc1",
   "metadata": {},
   "source": [
    "activate function\n",
    "$$h(x) = g(x, w, c)$$\n",
    "\n",
    "* Sigmoid Function\n",
    "$$g(x, w, c) = \\frac{1}{1 + e^{-(wx + c)}}$$\n",
    "\n",
    "* Gaussian Function \n",
    "$$g(x, w, c) = e^{-c\\|x-w\\|}$$\n",
    "\n",
    "* Hyperbolic Tangent Function\n",
    "$$g(x, w, c) = \\frac{1 - e^{-(wx+c)}}{1 + e^{-(wx+c)}}$$"
   ]
  },
  {
   "cell_type": "code",
   "execution_count": 2,
   "id": "c39dc446-cbec-4c9d-9d4c-2fa0f878e9a7",
   "metadata": {},
   "outputs": [],
   "source": [
    "def sigmoid(x, w, c):\n",
    "    return 1 / (1 + np.exp(-(np.dot(x, w) + c)))\n",
    "\n",
    "def gaussian(x, w, c):\n",
    "    return np.exp(-c * np.linalg.norm(x - w, 'fro'))\n",
    "\n",
    "def hyperbolic_tangent(x, w, c):\n",
    "    return (1 - np.exp(-(np.dot(w, x) + c)))/(1 + np.exp(-(np.dot(x, w) + c)))"
   ]
  },
  {
   "cell_type": "markdown",
   "id": "ac4e7cdd-08c8-4eb6-96d6-30f6ce7d0ade",
   "metadata": {},
   "source": [
    "### Mdel \n",
    "\\begin{align*} \n",
    "f(x) &=  \\sum_{i=1}^L \\beta_i h_i(x) \\\\ \n",
    " &=  h_i(x)\\beta\n",
    "\\end{align*}\n",
    "\n",
    "Let $H$ be an activat function matrix.\n",
    "\n",
    "$$H = \\begin{bmatrix}\n",
    "h(x_1) & \\\\\n",
    "\\vdots & \\\\\n",
    "h(x_N) & \n",
    "\\end{bmatrix} = \n",
    "\\begin{bmatrix}\n",
    "h_1(x_1) & \\cdots & h_L(x_1) \\\\\n",
    "\\vdots & \\vdots & \\vdots \\\\\n",
    "h_1(x_N) & \\cdots & h_L(x_N)\n",
    "\\end{bmatrix}$$\n",
    "\n",
    "$$H =  \n",
    "\\begin{bmatrix}\n",
    "g(w_1\\cdot x_1 + c_1) & \\cdots & g(w_L\\cdot x_1 + c_L) \\\\\n",
    "\\vdots & \\vdots & \\vdots \\\\\n",
    "g(w_1\\cdot x_N + c_1) & \\cdots & g(w_L\\cdot x_N + c_L)\n",
    "\\end{bmatrix}_{N\\times L}$$\n",
    "\n",
    "and let $Y \\in \\mathbb{R}^{N\\times D}$  be an output matrix.\n",
    "\n",
    "$$Y = \\begin{bmatrix}\n",
    "y_1 \\\\\n",
    "\\vdots \\\\\n",
    "y_N\n",
    "\\end{bmatrix}\n",
    "= \n",
    "\\begin{bmatrix}\n",
    "y_11 & \\cdots & y_{1D} \\\\\n",
    "\\vdots & \\vdots & \\vdots \\\\\n",
    "y_N1 & \\cdots & y_{ND} \n",
    "\\end{bmatrix}$$"
   ]
  },
  {
   "cell_type": "code",
   "execution_count": 4,
   "id": "107ab829",
   "metadata": {},
   "outputs": [],
   "source": [
    "x = np.random.rand(10, 5)"
   ]
  },
  {
   "cell_type": "code",
   "execution_count": 5,
   "id": "853e8052",
   "metadata": {},
   "outputs": [],
   "source": [
    "L = 2\n",
    "M = x.shape[1]\n",
    "w = np.random.rand(M, L)\n",
    "c = np.random.rand(L)"
   ]
  },
  {
   "cell_type": "code",
   "execution_count": 6,
   "id": "6ff3ead1",
   "metadata": {},
   "outputs": [
    {
     "data": {
      "text/plain": [
       "array([[0.52880439, 0.62104455, 0.49020939, 0.18085367, 0.10973375],\n",
       "       [0.77526985, 0.98912798, 0.48233457, 0.60777305, 0.67303469],\n",
       "       [0.68950423, 0.89160714, 0.76218975, 0.63303612, 0.58240395],\n",
       "       [0.71823948, 0.37377613, 0.08544905, 0.76592703, 0.54669678],\n",
       "       [0.38025592, 0.63391827, 0.24396701, 0.45224742, 0.70760141],\n",
       "       [0.51906768, 0.0904439 , 0.33081198, 0.40636845, 0.26857771],\n",
       "       [0.55449637, 0.64057992, 0.14586423, 0.90333676, 0.2118925 ],\n",
       "       [0.27423213, 0.81481853, 0.14643424, 0.24187729, 0.41078051],\n",
       "       [0.17015122, 0.01211769, 0.67614511, 0.28027325, 0.27888769],\n",
       "       [0.08776666, 0.15650351, 0.82047842, 0.35517723, 0.35338935]])"
      ]
     },
     "execution_count": 6,
     "metadata": {},
     "output_type": "execute_result"
    }
   ],
   "source": [
    "x"
   ]
  },
  {
   "cell_type": "code",
   "execution_count": 7,
   "id": "881929a6",
   "metadata": {},
   "outputs": [
    {
     "data": {
      "text/plain": [
       "array([[0.19104774, 0.99525208],\n",
       "       [0.74878526, 0.33605633],\n",
       "       [0.96573321, 0.8351068 ],\n",
       "       [0.79187485, 0.14651824],\n",
       "       [0.48353287, 0.93783397]])"
      ]
     },
     "execution_count": 7,
     "metadata": {},
     "output_type": "execute_result"
    }
   ],
   "source": [
    "w"
   ]
  },
  {
   "cell_type": "code",
   "execution_count": 8,
   "id": "219e2f33",
   "metadata": {},
   "outputs": [
    {
     "data": {
      "text/plain": [
       "array([0.30861778, 0.09730444])"
      ]
     },
     "execution_count": 8,
     "metadata": {},
     "output_type": "execute_result"
    }
   ],
   "source": [
    "c"
   ]
  },
  {
   "cell_type": "code",
   "execution_count": 9,
   "id": "61e3b296",
   "metadata": {},
   "outputs": [
    {
     "data": {
      "text/plain": [
       "array([[1.54435851, 1.37109167],\n",
       "       [2.46989688, 2.3243416 ],\n",
       "       [2.62693708, 2.35862458],\n",
       "       [1.67909907, 1.63403579],\n",
       "       [1.79181242, 1.62240084],\n",
       "       [1.24664277, 1.2319869 ],\n",
       "       [1.85286245, 1.31732655],\n",
       "       [1.50271215, 1.18703105],\n",
       "       [1.35996682, 1.1379889 ],\n",
       "       [1.68706747, 1.30589598]])"
      ]
     },
     "execution_count": 9,
     "metadata": {},
     "output_type": "execute_result"
    }
   ],
   "source": [
    "np.dot(x, w) + c"
   ]
  },
  {
   "cell_type": "code",
   "execution_count": 10,
   "id": "147b465b",
   "metadata": {},
   "outputs": [
    {
     "data": {
      "text/plain": [
       "array([[0.82409743, 0.79755647],\n",
       "       [0.92200435, 0.91087304],\n",
       "       [0.93257521, 0.91361732],\n",
       "       [0.8427852 , 0.83672175],\n",
       "       [0.85714934, 0.83512597],\n",
       "       [0.77671817, 0.77416614],\n",
       "       [0.86446284, 0.78873657],\n",
       "       [0.81797864, 0.76620965],\n",
       "       [0.79575431, 0.75731021],\n",
       "       [0.84383811, 0.78682559]])"
      ]
     },
     "execution_count": 10,
     "metadata": {},
     "output_type": "execute_result"
    }
   ],
   "source": [
    "sigmoid(x, w, c)"
   ]
  },
  {
   "cell_type": "code",
   "execution_count": 3,
   "id": "3bc864a7-3649-4a52-b785-a6a9883828b3",
   "metadata": {},
   "outputs": [],
   "source": [
    "def H(x, activate, L):\n",
    "    M = x.shape[1]\n",
    "    w = np.random.normal(M, L)\n",
    "    c = np.random.rand(L)\n",
    "    return activate(x, w, c)"
   ]
  },
  {
   "cell_type": "markdown",
   "id": "7e707bd7-a7e5-48bc-9d93-2d67870f6cd3",
   "metadata": {},
   "source": [
    "### Objective\n",
    "$$\\underset{\\beta}{\\mathrm{min}} \\|H\\beta - Y\\|^2$$"
   ]
  },
  {
   "cell_type": "markdown",
   "id": "302d0b33-74ee-4b12-9d28-9283ed581408",
   "metadata": {},
   "source": [
    "So,\n",
    "\n",
    "$$\\beta = H^\\dagger Y$$\n",
    "\n",
    "where $H^\\dagger$ is psudo inverse matrix of H.\n",
    "$$H^\\dagger = (H^TH)^{-1}H^T$$"
   ]
  },
  {
   "cell_type": "markdown",
   "id": "b97429e0-d329-4ac6-8a7e-7dcfd3477ae9",
   "metadata": {},
   "source": [
    "#### Regularize Model"
   ]
  },
  {
   "cell_type": "markdown",
   "id": "55de1f74-8d10-4936-988d-37e29facd6f1",
   "metadata": {},
   "source": [
    "$$\\underset{\\beta}{\\mathrm{min}} \\frac{C}{2}\\|H\\beta - Y\\|^2 + \\frac{1}{2}\\|\\beta\\|$$\n",
    "\n",
    "where $C$ is a hyperparameter."
   ]
  },
  {
   "cell_type": "markdown",
   "id": "449954d1-0feb-4087-813d-5f82fe17ca84",
   "metadata": {},
   "source": [
    "\\begin{align*} \n",
    "\\nabla_{\\beta}\\big(\\frac{C}{2}\\|H\\beta - Y\\|^2 + \\frac{1}{2}\\|\\beta\\|\\big) & = 0\\\\\\\\\n",
    "CH^T(H\\beta - Y) + \\beta & = 0\\\\\\\\\n",
    "CH^TH\\beta - CH^TY + \\beta & = 0\\\\\\\\\n",
    "(CH^TH + I)\\beta & = CH^TY \\\\\\\\\n",
    "\\beta & = (H^TH + \\frac{I}{C})^{-1}H^TY\n",
    "\\end{align*} "
   ]
  },
  {
   "cell_type": "code",
   "execution_count": 26,
   "id": "39dfd44b",
   "metadata": {},
   "outputs": [],
   "source": [
    "C = 1\n",
    "I = np.eye(L, L) \n",
    "H = sigmoid(x, w, c)\n",
    "Y = np.random.rand(10, 1)"
   ]
  },
  {
   "cell_type": "code",
   "execution_count": 27,
   "id": "acf9d374",
   "metadata": {},
   "outputs": [
    {
     "data": {
      "text/plain": [
       "array([[1., 0.],\n",
       "       [0., 1.]])"
      ]
     },
     "execution_count": 27,
     "metadata": {},
     "output_type": "execute_result"
    }
   ],
   "source": [
    "I"
   ]
  },
  {
   "cell_type": "code",
   "execution_count": 28,
   "id": "3709d097",
   "metadata": {
    "scrolled": true
   },
   "outputs": [
    {
     "data": {
      "text/plain": [
       "array([[0.90609474],\n",
       "       [0.212788  ],\n",
       "       [0.01731089],\n",
       "       [0.04339955],\n",
       "       [0.67732475],\n",
       "       [0.17360557],\n",
       "       [0.81263833],\n",
       "       [0.73581482],\n",
       "       [0.48544909],\n",
       "       [0.29274417]])"
      ]
     },
     "execution_count": 28,
     "metadata": {},
     "output_type": "execute_result"
    }
   ],
   "source": [
    "Y"
   ]
  },
  {
   "cell_type": "code",
   "execution_count": 29,
   "id": "3b05b76f",
   "metadata": {},
   "outputs": [],
   "source": [
    "Beta = np.linalg.inv(H.T @ H + I/C) @ H.T @ Y"
   ]
  },
  {
   "cell_type": "code",
   "execution_count": 30,
   "id": "08cce5ed",
   "metadata": {
    "scrolled": true
   },
   "outputs": [
    {
     "data": {
      "text/plain": [
       "array([[0.26614512],\n",
       "       [0.21074853]])"
      ]
     },
     "execution_count": 30,
     "metadata": {},
     "output_type": "execute_result"
    }
   ],
   "source": [
    "Beta"
   ]
  },
  {
   "cell_type": "code",
   "execution_count": 31,
   "id": "c0591ce8",
   "metadata": {
    "scrolled": true
   },
   "outputs": [
    {
     "data": {
      "text/plain": [
       "array([[0.38741336],\n",
       "       [0.43735211],\n",
       "       [0.44074385],\n",
       "       [0.40064105],\n",
       "       [0.40412769],\n",
       "       [0.36987413],\n",
       "       [0.39629764],\n",
       "       [0.37917858],\n",
       "       [0.37138814],\n",
       "       [0.39040573]])"
      ]
     },
     "execution_count": 31,
     "metadata": {},
     "output_type": "execute_result"
    }
   ],
   "source": [
    "H @ Beta"
   ]
  },
  {
   "cell_type": "code",
   "execution_count": null,
   "id": "0fb4d480",
   "metadata": {},
   "outputs": [],
   "source": []
  }
 ],
 "metadata": {
  "kernelspec": {
   "display_name": "Python 3",
   "language": "python",
   "name": "python3"
  },
  "language_info": {
   "codemirror_mode": {
    "name": "ipython",
    "version": 3
   },
   "file_extension": ".py",
   "mimetype": "text/x-python",
   "name": "python",
   "nbconvert_exporter": "python",
   "pygments_lexer": "ipython3",
   "version": "3.8.8"
  }
 },
 "nbformat": 4,
 "nbformat_minor": 5
}
