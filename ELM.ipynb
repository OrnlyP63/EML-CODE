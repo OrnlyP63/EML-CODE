{
 "cells": [
  {
   "cell_type": "markdown",
   "id": "642a2f7d-9e15-420c-b9a8-06e977a4fa1c",
   "metadata": {},
   "source": [
    "# Extreme Learning Machine"
   ]
  },
  {
   "cell_type": "markdown",
   "id": "843d4327-13d6-4375-9824-9be4678b9d85",
   "metadata": {},
   "source": [
    "* Huang et al, 2004\n",
    "* Single Hidden Layer Feedforward Neural Networks"
   ]
  },
  {
   "cell_type": "markdown",
   "id": "9e5b2fd1-70e8-4ee1-82f0-1da72e6d51db",
   "metadata": {},
   "source": [
    "Let **input data** $X = [x_1, x_2, \\cdots, x_N]^T$, $x\\in \\mathbb{R}^M$,\n",
    "\n",
    "s.t. $N$ is a number of input data and $M$ is a number of feature data.\n",
    "\n",
    "Let $L$ be a number of **hidden node** , \n",
    "\n",
    "$D$ be a number of **output data**  \n",
    "\n",
    "and $\\beta \\in \\mathbb{R}^{L\\times D}, \\beta = [\\beta_1, \\beta_2, \\cdots, \\beta_L]^T$ be **weight** between hidden node and output data."
   ]
  },
  {
   "cell_type": "code",
   "execution_count": 1,
   "id": "a041a2d4-3ec7-45f0-88a0-fb0a6d84c3dc",
   "metadata": {},
   "outputs": [],
   "source": [
    "import numpy as np\n",
    "import pandas as pd"
   ]
  },
  {
   "cell_type": "code",
   "execution_count": 2,
   "id": "d9ff1f19-9670-491a-9dcc-9633995359e5",
   "metadata": {},
   "outputs": [],
   "source": [
    "np.random.seed(0)"
   ]
  },
  {
   "cell_type": "markdown",
   "id": "c7ab219f-f0fc-49a4-9a26-5fc153a95bc1",
   "metadata": {},
   "source": [
    "activate function\n",
    "$$h(x) = g(x, w, c)$$\n",
    "\n",
    "* Sigmoid Function\n",
    "$$g(x, w, c) = \\frac{1}{1 + e^{-(wx + c)}}$$\n",
    "\n",
    "* Gaussian Function \n",
    "$$g(x, w, c) = e^{-c\\|x-w\\|}$$\n",
    "\n",
    "* Hyperbolic Tangent Function\n",
    "$$g(x, w, c) = \\frac{1 - e^{-(wx+c)}}{1 + e^{-(wx+c)}}$$"
   ]
  },
  {
   "cell_type": "code",
   "execution_count": 3,
   "id": "c39dc446-cbec-4c9d-9d4c-2fa0f878e9a7",
   "metadata": {},
   "outputs": [],
   "source": [
    "def sigmoid(x, w, c):\n",
    "    return 1 / (1 + np.exp(-(np.dot(x, w) + c)))\n",
    "\n",
    "def gaussian(x, w, c):\n",
    "    return np.exp(-c * np.linalg.norm(x - w))\n",
    "\n",
    "def hyperbolic_tangent(x, w, c):\n",
    "    return (1 - np.exp(-(np.dot(w, x) + c)))/(1 + np.exp(-(np.dot(x, w) + c)))"
   ]
  },
  {
   "cell_type": "code",
   "execution_count": 4,
   "id": "fe2cc60b",
   "metadata": {},
   "outputs": [],
   "source": [
    "#Get function\n",
    "def getActivation(name):\n",
    "    return {\n",
    "        'sigmoid': sigmoid,\n",
    "        'gaussian': gaussian,\n",
    "        'hyperbolic_tangent': hyperbolic_tangent,\n",
    "    }[name]"
   ]
  },
  {
   "cell_type": "markdown",
   "id": "ac4e7cdd-08c8-4eb6-96d6-30f6ce7d0ade",
   "metadata": {},
   "source": [
    "### Model \n",
    "\\begin{align*} \n",
    "f(x) &=  \\sum_{i=1}^L \\beta_i h_i(x) \\\\ \n",
    " &=  h_i(x)\\beta\n",
    "\\end{align*}\n",
    "\n",
    "Let $H$ be an activat function matrix.\n",
    "\n",
    "$$H = \\begin{bmatrix}\n",
    "h(x_1) & \\\\\n",
    "\\vdots & \\\\\n",
    "h(x_N) & \n",
    "\\end{bmatrix} = \n",
    "\\begin{bmatrix}\n",
    "h_1(x_1) & \\cdots & h_L(x_1) \\\\\n",
    "\\vdots & \\vdots & \\vdots \\\\\n",
    "h_1(x_N) & \\cdots & h_L(x_N)\n",
    "\\end{bmatrix}$$\n",
    "\n",
    "$$H =  \n",
    "\\begin{bmatrix}\n",
    "g(w_1\\cdot x_1 + c_1) & \\cdots & g(w_L\\cdot x_1 + c_L) \\\\\n",
    "\\vdots & \\vdots & \\vdots \\\\\n",
    "g(w_1\\cdot x_N + c_1) & \\cdots & g(w_L\\cdot x_N + c_L)\n",
    "\\end{bmatrix}_{N\\times L}$$\n",
    "\n",
    "and let $Y \\in \\mathbb{R}^{N\\times D}$  be an output matrix.\n",
    "\n",
    "$$Y = \\begin{bmatrix}\n",
    "y_1 \\\\\n",
    "\\vdots \\\\\n",
    "y_N\n",
    "\\end{bmatrix}\n",
    "= \n",
    "\\begin{bmatrix}\n",
    "y_11 & \\cdots & y_{1D} \\\\\n",
    "\\vdots & \\vdots & \\vdots \\\\\n",
    "y_N1 & \\cdots & y_{ND} \n",
    "\\end{bmatrix}$$"
   ]
  },
  {
   "cell_type": "code",
   "execution_count": 5,
   "id": "107ab829",
   "metadata": {},
   "outputs": [],
   "source": [
    "x = np.random.rand(10, 5)"
   ]
  },
  {
   "cell_type": "code",
   "execution_count": 6,
   "id": "853e8052",
   "metadata": {},
   "outputs": [],
   "source": [
    "L = 2\n",
    "M = x.shape[1]\n",
    "w = np.random.normal(size=(M, L))\n",
    "c = np.random.normal(size=(L))"
   ]
  },
  {
   "cell_type": "code",
   "execution_count": 7,
   "id": "6ff3ead1",
   "metadata": {},
   "outputs": [
    {
     "data": {
      "text/plain": [
       "array([[0.5488135 , 0.71518937, 0.60276338, 0.54488318, 0.4236548 ],\n",
       "       [0.64589411, 0.43758721, 0.891773  , 0.96366276, 0.38344152],\n",
       "       [0.79172504, 0.52889492, 0.56804456, 0.92559664, 0.07103606],\n",
       "       [0.0871293 , 0.0202184 , 0.83261985, 0.77815675, 0.87001215],\n",
       "       [0.97861834, 0.79915856, 0.46147936, 0.78052918, 0.11827443],\n",
       "       [0.63992102, 0.14335329, 0.94466892, 0.52184832, 0.41466194],\n",
       "       [0.26455561, 0.77423369, 0.45615033, 0.56843395, 0.0187898 ],\n",
       "       [0.6176355 , 0.61209572, 0.616934  , 0.94374808, 0.6818203 ],\n",
       "       [0.3595079 , 0.43703195, 0.6976312 , 0.06022547, 0.66676672],\n",
       "       [0.67063787, 0.21038256, 0.1289263 , 0.31542835, 0.36371077]])"
      ]
     },
     "execution_count": 7,
     "metadata": {},
     "output_type": "execute_result"
    }
   ],
   "source": [
    "x"
   ]
  },
  {
   "cell_type": "code",
   "execution_count": 8,
   "id": "881929a6",
   "metadata": {},
   "outputs": [
    {
     "data": {
      "text/plain": [
       "array([[-1.70627019,  1.9507754 ],\n",
       "       [-0.50965218, -0.4380743 ],\n",
       "       [-1.25279536,  0.77749036],\n",
       "       [-1.61389785, -0.21274028],\n",
       "       [-0.89546656,  0.3869025 ]])"
      ]
     },
     "execution_count": 8,
     "metadata": {},
     "output_type": "execute_result"
    }
   ],
   "source": [
    "w"
   ]
  },
  {
   "cell_type": "code",
   "execution_count": 9,
   "id": "219e2f33",
   "metadata": {},
   "outputs": [
    {
     "data": {
      "text/plain": [
       "array([-0.51080514, -1.18063218])"
      ]
     },
     "execution_count": 9,
     "metadata": {},
     "output_type": "execute_result"
    }
   ],
   "source": [
    "c"
   ]
  },
  {
   "cell_type": "code",
   "execution_count": 10,
   "id": "61e3b296",
   "metadata": {},
   "outputs": [
    {
     "data": {
      "text/plain": [
       "array([[-3.82562074,  0.09331082],\n",
       "       [-4.85171368,  0.52435595],\n",
       "       [-4.40032685,  0.40437178],\n",
       "       [-3.74781019, -0.20110116],\n",
       "       [-4.5316297 ,  0.616848  ],\n",
       "       [-4.07274624,  0.78879716],\n",
       "       [-2.86248137, -0.76272198],\n",
       "       [-4.78316642,  0.29877752],\n",
       "       [-2.91521122,  0.11679737],\n",
       "       [-2.75859471,  0.20932372]])"
      ]
     },
     "execution_count": 10,
     "metadata": {},
     "output_type": "execute_result"
    }
   ],
   "source": [
    "np.dot(x, w) + c"
   ]
  },
  {
   "cell_type": "code",
   "execution_count": 11,
   "id": "147b465b",
   "metadata": {},
   "outputs": [
    {
     "data": {
      "text/plain": [
       "array([[0.02133959, 0.52331079],\n",
       "       [0.00775437, 0.62816577],\n",
       "       [0.01212452, 0.59973757],\n",
       "       [0.02302658, 0.44989346],\n",
       "       [0.01064851, 0.64950134],\n",
       "       [0.01674537, 0.687573  ],\n",
       "       [0.05403971, 0.31805559],\n",
       "       [0.00829999, 0.57414364],\n",
       "       [0.05140672, 0.52916619],\n",
       "       [0.05960308, 0.55214068]])"
      ]
     },
     "execution_count": 11,
     "metadata": {},
     "output_type": "execute_result"
    }
   ],
   "source": [
    "sigmoid(x, w, c)"
   ]
  },
  {
   "cell_type": "code",
   "execution_count": 12,
   "id": "3bc864a7-3649-4a52-b785-a6a9883828b3",
   "metadata": {},
   "outputs": [],
   "source": [
    "def H(x, activate, L):\n",
    "    M = x.shape[1]\n",
    "    w = np.random.normal(size=(M, L))\n",
    "    c = np.random.rand(L)\n",
    "    act = getActivation(activate)\n",
    "    return act(x, w, c)"
   ]
  },
  {
   "cell_type": "markdown",
   "id": "7e707bd7-a7e5-48bc-9d93-2d67870f6cd3",
   "metadata": {},
   "source": [
    "### Objective\n",
    "$$\\underset{\\beta}{\\mathrm{min}} \\|H\\beta - Y\\|^2$$"
   ]
  },
  {
   "cell_type": "markdown",
   "id": "302d0b33-74ee-4b12-9d28-9283ed581408",
   "metadata": {},
   "source": [
    "So,\n",
    "\n",
    "$$\\beta = H^\\dagger Y$$\n",
    "\n",
    "where $H^\\dagger$ is psudo inverse matrix of H.\n",
    "$$H^\\dagger = (H^TH)^{-1}H^T$$"
   ]
  },
  {
   "cell_type": "markdown",
   "id": "b97429e0-d329-4ac6-8a7e-7dcfd3477ae9",
   "metadata": {},
   "source": [
    "#### Regularize Model"
   ]
  },
  {
   "cell_type": "markdown",
   "id": "55de1f74-8d10-4936-988d-37e29facd6f1",
   "metadata": {},
   "source": [
    "$$\\underset{\\beta}{\\mathrm{min}} \\frac{C}{2}\\|H\\beta - Y\\|^2 + \\frac{1}{2}\\|\\beta\\|$$\n",
    "\n",
    "where $C$ is a hyperparameter."
   ]
  },
  {
   "cell_type": "markdown",
   "id": "449954d1-0feb-4087-813d-5f82fe17ca84",
   "metadata": {},
   "source": [
    "\\begin{align*} \n",
    "\\nabla_{\\beta}\\big(\\frac{C}{2}\\|H\\beta - Y\\|^2 + \\frac{1}{2}\\|\\beta\\|\\big) & = 0\\\\\\\\\n",
    "CH^T(H\\beta - Y) + \\beta & = 0\\\\\\\\\n",
    "CH^TH\\beta - CH^TY + \\beta & = 0\\\\\\\\\n",
    "(CH^TH + I)\\beta & = CH^TY \\\\\\\\\n",
    "\\beta & = (H^TH + \\frac{I}{C})^{-1}H^TY\n",
    "\\end{align*} "
   ]
  },
  {
   "cell_type": "code",
   "execution_count": 13,
   "id": "39dfd44b",
   "metadata": {},
   "outputs": [],
   "source": [
    "C = 1\n",
    "I = np.eye(L, L) \n",
    "H = sigmoid(x, w, c)\n",
    "Y = np.random.rand(10, 1)"
   ]
  },
  {
   "cell_type": "code",
   "execution_count": 14,
   "id": "acf9d374",
   "metadata": {},
   "outputs": [
    {
     "data": {
      "text/plain": [
       "array([[1., 0.],\n",
       "       [0., 1.]])"
      ]
     },
     "execution_count": 14,
     "metadata": {},
     "output_type": "execute_result"
    }
   ],
   "source": [
    "I"
   ]
  },
  {
   "cell_type": "code",
   "execution_count": 15,
   "id": "3709d097",
   "metadata": {
    "scrolled": true
   },
   "outputs": [
    {
     "data": {
      "text/plain": [
       "array([[0.82099323],\n",
       "       [0.09710128],\n",
       "       [0.83794491],\n",
       "       [0.09609841],\n",
       "       [0.97645947],\n",
       "       [0.4686512 ],\n",
       "       [0.97676109],\n",
       "       [0.60484552],\n",
       "       [0.73926358],\n",
       "       [0.03918779]])"
      ]
     },
     "execution_count": 15,
     "metadata": {},
     "output_type": "execute_result"
    }
   ],
   "source": [
    "Y"
   ]
  },
  {
   "cell_type": "code",
   "execution_count": 16,
   "id": "3b05b76f",
   "metadata": {},
   "outputs": [],
   "source": [
    "Beta = np.linalg.inv(H.T @ H + I/C) @ H.T @ Y"
   ]
  },
  {
   "cell_type": "code",
   "execution_count": 17,
   "id": "08cce5ed",
   "metadata": {
    "scrolled": true
   },
   "outputs": [
    {
     "data": {
      "text/plain": [
       "array([[0.04746629],\n",
       "       [0.73831975]])"
      ]
     },
     "execution_count": 17,
     "metadata": {},
     "output_type": "execute_result"
    }
   ],
   "source": [
    "Beta"
   ]
  },
  {
   "cell_type": "code",
   "execution_count": 18,
   "id": "c0591ce8",
   "metadata": {
    "scrolled": true
   },
   "outputs": [
    {
     "data": {
      "text/plain": [
       "array([[0.38738361],\n",
       "       [0.46415526],\n",
       "       [0.4433736 ],\n",
       "       [0.33325821],\n",
       "       [0.48004511],\n",
       "       [0.50844357],\n",
       "       [0.23739179],\n",
       "       [0.42429556],\n",
       "       [0.39313394],\n",
       "       [0.41048551]])"
      ]
     },
     "execution_count": 18,
     "metadata": {},
     "output_type": "execute_result"
    }
   ],
   "source": [
    "H @ Beta"
   ]
  },
  {
   "cell_type": "markdown",
   "id": "cc43a15a",
   "metadata": {},
   "source": [
    "# Test in Real Data"
   ]
  },
  {
   "cell_type": "code",
   "execution_count": 19,
   "id": "20afdb00",
   "metadata": {},
   "outputs": [],
   "source": [
    "import seaborn as sns\n",
    "import numpy as np\n",
    "import pandas as pd\n",
    "from sklearn.model_selection import train_test_split"
   ]
  },
  {
   "cell_type": "code",
   "execution_count": 20,
   "id": "911fef85",
   "metadata": {},
   "outputs": [],
   "source": [
    "# Loading Iris Datasets:\n",
    "iris = sns.load_dataset(\"iris\")"
   ]
  },
  {
   "cell_type": "code",
   "execution_count": 21,
   "id": "fba606f6",
   "metadata": {
    "scrolled": true
   },
   "outputs": [
    {
     "data": {
      "text/html": [
       "<div>\n",
       "<style scoped>\n",
       "    .dataframe tbody tr th:only-of-type {\n",
       "        vertical-align: middle;\n",
       "    }\n",
       "\n",
       "    .dataframe tbody tr th {\n",
       "        vertical-align: top;\n",
       "    }\n",
       "\n",
       "    .dataframe thead th {\n",
       "        text-align: right;\n",
       "    }\n",
       "</style>\n",
       "<table border=\"1\" class=\"dataframe\">\n",
       "  <thead>\n",
       "    <tr style=\"text-align: right;\">\n",
       "      <th></th>\n",
       "      <th>sepal_length</th>\n",
       "      <th>sepal_width</th>\n",
       "      <th>petal_length</th>\n",
       "      <th>petal_width</th>\n",
       "      <th>species</th>\n",
       "    </tr>\n",
       "  </thead>\n",
       "  <tbody>\n",
       "    <tr>\n",
       "      <th>0</th>\n",
       "      <td>5.1</td>\n",
       "      <td>3.5</td>\n",
       "      <td>1.4</td>\n",
       "      <td>0.2</td>\n",
       "      <td>setosa</td>\n",
       "    </tr>\n",
       "    <tr>\n",
       "      <th>1</th>\n",
       "      <td>4.9</td>\n",
       "      <td>3.0</td>\n",
       "      <td>1.4</td>\n",
       "      <td>0.2</td>\n",
       "      <td>setosa</td>\n",
       "    </tr>\n",
       "    <tr>\n",
       "      <th>2</th>\n",
       "      <td>4.7</td>\n",
       "      <td>3.2</td>\n",
       "      <td>1.3</td>\n",
       "      <td>0.2</td>\n",
       "      <td>setosa</td>\n",
       "    </tr>\n",
       "    <tr>\n",
       "      <th>3</th>\n",
       "      <td>4.6</td>\n",
       "      <td>3.1</td>\n",
       "      <td>1.5</td>\n",
       "      <td>0.2</td>\n",
       "      <td>setosa</td>\n",
       "    </tr>\n",
       "    <tr>\n",
       "      <th>4</th>\n",
       "      <td>5.0</td>\n",
       "      <td>3.6</td>\n",
       "      <td>1.4</td>\n",
       "      <td>0.2</td>\n",
       "      <td>setosa</td>\n",
       "    </tr>\n",
       "  </tbody>\n",
       "</table>\n",
       "</div>"
      ],
      "text/plain": [
       "   sepal_length  sepal_width  petal_length  petal_width species\n",
       "0           5.1          3.5           1.4          0.2  setosa\n",
       "1           4.9          3.0           1.4          0.2  setosa\n",
       "2           4.7          3.2           1.3          0.2  setosa\n",
       "3           4.6          3.1           1.5          0.2  setosa\n",
       "4           5.0          3.6           1.4          0.2  setosa"
      ]
     },
     "execution_count": 21,
     "metadata": {},
     "output_type": "execute_result"
    }
   ],
   "source": [
    "iris.head()"
   ]
  },
  {
   "cell_type": "code",
   "execution_count": 22,
   "id": "55829984",
   "metadata": {},
   "outputs": [],
   "source": [
    "X = iris.iloc[:, :4]\n",
    "y = iris.iloc[:, -1]\n",
    "y = pd.get_dummies(y)"
   ]
  },
  {
   "cell_type": "code",
   "execution_count": 23,
   "id": "88c2a8b4",
   "metadata": {},
   "outputs": [
    {
     "data": {
      "text/html": [
       "<div>\n",
       "<style scoped>\n",
       "    .dataframe tbody tr th:only-of-type {\n",
       "        vertical-align: middle;\n",
       "    }\n",
       "\n",
       "    .dataframe tbody tr th {\n",
       "        vertical-align: top;\n",
       "    }\n",
       "\n",
       "    .dataframe thead th {\n",
       "        text-align: right;\n",
       "    }\n",
       "</style>\n",
       "<table border=\"1\" class=\"dataframe\">\n",
       "  <thead>\n",
       "    <tr style=\"text-align: right;\">\n",
       "      <th></th>\n",
       "      <th>sepal_length</th>\n",
       "      <th>sepal_width</th>\n",
       "      <th>petal_length</th>\n",
       "      <th>petal_width</th>\n",
       "    </tr>\n",
       "  </thead>\n",
       "  <tbody>\n",
       "    <tr>\n",
       "      <th>0</th>\n",
       "      <td>5.1</td>\n",
       "      <td>3.5</td>\n",
       "      <td>1.4</td>\n",
       "      <td>0.2</td>\n",
       "    </tr>\n",
       "    <tr>\n",
       "      <th>1</th>\n",
       "      <td>4.9</td>\n",
       "      <td>3.0</td>\n",
       "      <td>1.4</td>\n",
       "      <td>0.2</td>\n",
       "    </tr>\n",
       "    <tr>\n",
       "      <th>2</th>\n",
       "      <td>4.7</td>\n",
       "      <td>3.2</td>\n",
       "      <td>1.3</td>\n",
       "      <td>0.2</td>\n",
       "    </tr>\n",
       "    <tr>\n",
       "      <th>3</th>\n",
       "      <td>4.6</td>\n",
       "      <td>3.1</td>\n",
       "      <td>1.5</td>\n",
       "      <td>0.2</td>\n",
       "    </tr>\n",
       "    <tr>\n",
       "      <th>4</th>\n",
       "      <td>5.0</td>\n",
       "      <td>3.6</td>\n",
       "      <td>1.4</td>\n",
       "      <td>0.2</td>\n",
       "    </tr>\n",
       "    <tr>\n",
       "      <th>...</th>\n",
       "      <td>...</td>\n",
       "      <td>...</td>\n",
       "      <td>...</td>\n",
       "      <td>...</td>\n",
       "    </tr>\n",
       "    <tr>\n",
       "      <th>145</th>\n",
       "      <td>6.7</td>\n",
       "      <td>3.0</td>\n",
       "      <td>5.2</td>\n",
       "      <td>2.3</td>\n",
       "    </tr>\n",
       "    <tr>\n",
       "      <th>146</th>\n",
       "      <td>6.3</td>\n",
       "      <td>2.5</td>\n",
       "      <td>5.0</td>\n",
       "      <td>1.9</td>\n",
       "    </tr>\n",
       "    <tr>\n",
       "      <th>147</th>\n",
       "      <td>6.5</td>\n",
       "      <td>3.0</td>\n",
       "      <td>5.2</td>\n",
       "      <td>2.0</td>\n",
       "    </tr>\n",
       "    <tr>\n",
       "      <th>148</th>\n",
       "      <td>6.2</td>\n",
       "      <td>3.4</td>\n",
       "      <td>5.4</td>\n",
       "      <td>2.3</td>\n",
       "    </tr>\n",
       "    <tr>\n",
       "      <th>149</th>\n",
       "      <td>5.9</td>\n",
       "      <td>3.0</td>\n",
       "      <td>5.1</td>\n",
       "      <td>1.8</td>\n",
       "    </tr>\n",
       "  </tbody>\n",
       "</table>\n",
       "<p>150 rows × 4 columns</p>\n",
       "</div>"
      ],
      "text/plain": [
       "     sepal_length  sepal_width  petal_length  petal_width\n",
       "0             5.1          3.5           1.4          0.2\n",
       "1             4.9          3.0           1.4          0.2\n",
       "2             4.7          3.2           1.3          0.2\n",
       "3             4.6          3.1           1.5          0.2\n",
       "4             5.0          3.6           1.4          0.2\n",
       "..            ...          ...           ...          ...\n",
       "145           6.7          3.0           5.2          2.3\n",
       "146           6.3          2.5           5.0          1.9\n",
       "147           6.5          3.0           5.2          2.0\n",
       "148           6.2          3.4           5.4          2.3\n",
       "149           5.9          3.0           5.1          1.8\n",
       "\n",
       "[150 rows x 4 columns]"
      ]
     },
     "execution_count": 23,
     "metadata": {},
     "output_type": "execute_result"
    }
   ],
   "source": [
    "X"
   ]
  },
  {
   "cell_type": "code",
   "execution_count": 24,
   "id": "d944025e",
   "metadata": {},
   "outputs": [
    {
     "data": {
      "text/html": [
       "<div>\n",
       "<style scoped>\n",
       "    .dataframe tbody tr th:only-of-type {\n",
       "        vertical-align: middle;\n",
       "    }\n",
       "\n",
       "    .dataframe tbody tr th {\n",
       "        vertical-align: top;\n",
       "    }\n",
       "\n",
       "    .dataframe thead th {\n",
       "        text-align: right;\n",
       "    }\n",
       "</style>\n",
       "<table border=\"1\" class=\"dataframe\">\n",
       "  <thead>\n",
       "    <tr style=\"text-align: right;\">\n",
       "      <th></th>\n",
       "      <th>setosa</th>\n",
       "      <th>versicolor</th>\n",
       "      <th>virginica</th>\n",
       "    </tr>\n",
       "  </thead>\n",
       "  <tbody>\n",
       "    <tr>\n",
       "      <th>0</th>\n",
       "      <td>1</td>\n",
       "      <td>0</td>\n",
       "      <td>0</td>\n",
       "    </tr>\n",
       "    <tr>\n",
       "      <th>1</th>\n",
       "      <td>1</td>\n",
       "      <td>0</td>\n",
       "      <td>0</td>\n",
       "    </tr>\n",
       "    <tr>\n",
       "      <th>2</th>\n",
       "      <td>1</td>\n",
       "      <td>0</td>\n",
       "      <td>0</td>\n",
       "    </tr>\n",
       "    <tr>\n",
       "      <th>3</th>\n",
       "      <td>1</td>\n",
       "      <td>0</td>\n",
       "      <td>0</td>\n",
       "    </tr>\n",
       "    <tr>\n",
       "      <th>4</th>\n",
       "      <td>1</td>\n",
       "      <td>0</td>\n",
       "      <td>0</td>\n",
       "    </tr>\n",
       "    <tr>\n",
       "      <th>...</th>\n",
       "      <td>...</td>\n",
       "      <td>...</td>\n",
       "      <td>...</td>\n",
       "    </tr>\n",
       "    <tr>\n",
       "      <th>145</th>\n",
       "      <td>0</td>\n",
       "      <td>0</td>\n",
       "      <td>1</td>\n",
       "    </tr>\n",
       "    <tr>\n",
       "      <th>146</th>\n",
       "      <td>0</td>\n",
       "      <td>0</td>\n",
       "      <td>1</td>\n",
       "    </tr>\n",
       "    <tr>\n",
       "      <th>147</th>\n",
       "      <td>0</td>\n",
       "      <td>0</td>\n",
       "      <td>1</td>\n",
       "    </tr>\n",
       "    <tr>\n",
       "      <th>148</th>\n",
       "      <td>0</td>\n",
       "      <td>0</td>\n",
       "      <td>1</td>\n",
       "    </tr>\n",
       "    <tr>\n",
       "      <th>149</th>\n",
       "      <td>0</td>\n",
       "      <td>0</td>\n",
       "      <td>1</td>\n",
       "    </tr>\n",
       "  </tbody>\n",
       "</table>\n",
       "<p>150 rows × 3 columns</p>\n",
       "</div>"
      ],
      "text/plain": [
       "     setosa  versicolor  virginica\n",
       "0         1           0          0\n",
       "1         1           0          0\n",
       "2         1           0          0\n",
       "3         1           0          0\n",
       "4         1           0          0\n",
       "..      ...         ...        ...\n",
       "145       0           0          1\n",
       "146       0           0          1\n",
       "147       0           0          1\n",
       "148       0           0          1\n",
       "149       0           0          1\n",
       "\n",
       "[150 rows x 3 columns]"
      ]
     },
     "execution_count": 24,
     "metadata": {},
     "output_type": "execute_result"
    }
   ],
   "source": [
    "y"
   ]
  },
  {
   "cell_type": "code",
   "execution_count": 25,
   "id": "ba1e65c7",
   "metadata": {},
   "outputs": [],
   "source": [
    "X_train, X_test, y_train, y_test = train_test_split(X, y, test_size=0.30, random_state=0)"
   ]
  },
  {
   "cell_type": "code",
   "execution_count": 26,
   "id": "96406e07",
   "metadata": {},
   "outputs": [],
   "source": [
    "class ELM:\n",
    "    def __init__ (self,num_hidden, activation='sigmoid'):\n",
    "        self.activation = getActivation(activation)\n",
    "        self.L = num_hidden\n",
    "        \n",
    "    def fit(self,  X,  y, C=1):\n",
    "        self.X = X\n",
    "        self.Y = y\n",
    "        self.I = np.eye(self.L, self.L) \n",
    "        self.M = X.shape[1]\n",
    "        self.w =  np.random.normal(size=(self.M, self.L))\n",
    "        self.c = np.random.normal(size=(self.L))\n",
    "        self.C = C\n",
    "        \n",
    "        self.H = self.activation(self.X, self.w, self.c)\n",
    "        self.Beta = np.linalg.inv(self.H.T @ self.H + self.I /self.C) @ self.H.T @ self.Y\n",
    "        \n",
    "    def predict(self, X):\n",
    "        H_pre = self.activation(X, self.w, self.c)\n",
    "        return H_pre @ self.Beta"
   ]
  },
  {
   "cell_type": "code",
   "execution_count": 27,
   "id": "61bbd37b",
   "metadata": {},
   "outputs": [],
   "source": [
    "model = ELM(15)"
   ]
  },
  {
   "cell_type": "code",
   "execution_count": 28,
   "id": "02d64f0e",
   "metadata": {},
   "outputs": [],
   "source": [
    "model.fit(X_train, y_train, C=1)"
   ]
  },
  {
   "cell_type": "code",
   "execution_count": 29,
   "id": "58e8cc1b",
   "metadata": {},
   "outputs": [],
   "source": [
    "y_pred = model.predict(X_test)"
   ]
  },
  {
   "cell_type": "code",
   "execution_count": 30,
   "id": "681f5482",
   "metadata": {},
   "outputs": [
    {
     "data": {
      "text/plain": [
       "0.9111111111111111"
      ]
     },
     "execution_count": 30,
     "metadata": {},
     "output_type": "execute_result"
    }
   ],
   "source": [
    "sum(np.argmax(y_pred.values, axis=1) == np.argmax(y_test.values, axis=1)) / len(y_pred)"
   ]
  },
  {
   "cell_type": "code",
   "execution_count": 31,
   "id": "e1405f00",
   "metadata": {},
   "outputs": [],
   "source": [
    "from sklearn.metrics import confusion_matrix"
   ]
  },
  {
   "cell_type": "code",
   "execution_count": 32,
   "id": "fb567116",
   "metadata": {},
   "outputs": [
    {
     "data": {
      "text/plain": [
       "array([[16,  0,  0],\n",
       "       [ 0, 14,  4],\n",
       "       [ 0,  0, 11]], dtype=int64)"
      ]
     },
     "execution_count": 32,
     "metadata": {},
     "output_type": "execute_result"
    }
   ],
   "source": [
    "confusion_matrix(np.argmax(y_test.values, axis=1), np.argmax(y_pred.values, axis=1), labels=[0, 1, 2])"
   ]
  },
  {
   "cell_type": "markdown",
   "id": "fdbfecdf-01b4-4590-bbcf-ca50f3856722",
   "metadata": {},
   "source": [
    "# Kernel-ELM\n",
    "\n",
    "$$\\underset{\\beta,\\xi}{min}\\frac{1}{2}\\|\\beta\\|^2 + c\\frac{1}{2}\\sum_{i=1}^N\\|\\xi_i\\|^2$$\n",
    "\n",
    "s.t.\n",
    "\n",
    "$h(x)\\beta = y_i^T - \\xi_i^T,\\quad i = 1, ..., N$"
   ]
  },
  {
   "cell_type": "markdown",
   "id": "28961fd1-68b1-4786-b2ac-90cc54a8a293",
   "metadata": {},
   "source": [
    "### Lagrange Multiplier Method\n",
    "\n",
    "$$L = \\frac{1}{2}\\|\\beta\\|^2 + c\\frac{1}{2}\\sum_{i=1}^N\\|\\xi_i\\|^2 - \\sum_{i=1}^N\\sum_{j=1}^M\\alpha_{i,j}(h(x_i)\\beta_j - y_{i,j} + \\xi_{i,j})$$\n",
    "\n",
    "where $\\xi_i = [\\xi_{i,1}, ..., \\xi_{i,M}]^T$ is the training error vetor of the $M$ output nodes\n",
    "\n",
    "and  $\\quad\\alpha_i = [\\alpha_{i,1}, ..., \\alpha_{i,M}]^T$ is the Lagrange multiplier"
   ]
  },
  {
   "cell_type": "markdown",
   "id": "cf274ab2-17a2-4d90-95fc-7fa9410c776d",
   "metadata": {},
   "source": [
    "#### Critical points\n",
    "\n",
    "$$\n",
    "\\begin{align}\n",
    "\\frac{\\partial{L}}{\\partial{\\beta_i}} &&= 0 \\rightarrow &&\\beta_j = \\sum_{i=1}^N \\alpha_{i,j}h(x_i)^T \\rightarrow \\beta = H^T\\alpha \\quad (1)\\\\\n",
    "\\frac{\\partial{L}}{\\partial{\\xi_i}} &&= 0 \\rightarrow &&\\alpha_i = c\\xi_i,\\quad i=1,...,N\\quad (2)\\\\\n",
    "\\frac{\\partial{L}}{\\partial{\\alpha_i}} &&= 0 \\rightarrow &&h(x_i)\\beta - y^T_i + \\xi^T_i = 0,\\quad i=1,...,N\\quad (3)\\\\\n",
    "\\end{align}\n",
    "$$\n",
    "\n",
    "<!-- display(Math(\n",
    "r\"\"\"\n",
    "\\begin{align}\n",
    "a = \\frac{1}{2} && b = \\frac{1}{3} && c = \\frac{1}{4} \\\\\n",
    "a && b && c \\\\\n",
    "1 && 2 && 3\n",
    "\\end{align}\n",
    "\"\"\")) -->"
   ]
  },
  {
   "cell_type": "markdown",
   "id": "5618a26c-f42b-48d3-a261-3531940fa06a",
   "metadata": {},
   "source": [
    "#### Solve Equation\n",
    "\n",
    "From $(2)$ implies $\\xi_i = \\frac{\\alpha_i}{c}$.\n",
    "\n",
    "Consider $(3)$\n",
    "\n",
    "$$\n",
    "\\begin{align}\n",
    "h(x_i)\\beta - y^T_i + \\xi^T_i &= 0 \\\\\n",
    "h(x_i)\\beta - y^T_i + \\frac{\\alpha_i^T}{c} &= 0\\\\\n",
    "H\\beta - Y + \\frac{\\alpha}{c} &= 0\\\\\n",
    "Y &= H\\beta + \\frac{\\alpha}{c}\\\\\n",
    "Y &= (HH^T\\alpha + \\frac{\\alpha}{c})\\quad \\text{by}\\,(1)\\\\\n",
    "Y &= (HH^T + \\frac{I}{c})\\alpha\\\\\n",
    "\\alpha &= (HH^T + \\frac{I}{c})^{-1}Y\\\\\n",
    "\\beta &= H^T(HH^T + \\frac{I}{c})^{-1}Y\\quad \\text{by}\\,(1)\n",
    "\\end{align}\n",
    "$$"
   ]
  },
  {
   "cell_type": "markdown",
   "id": "84350f7f-39d3-49eb-842d-32c0a4c4bf95",
   "metadata": {},
   "source": [
    "#### kernel\n",
    "\n",
    "Let $\\Omega_{i,j} = h(x_i)\\cdot(x_j) = K(x_i,x_j)$\n",
    "\n",
    "we can define\n",
    "\n",
    "$$\\Omega = HH^T$$"
   ]
  },
  {
   "cell_type": "markdown",
   "id": "ce2c4535-5611-42b7-8f23-7d745ee8f601",
   "metadata": {},
   "source": [
    "So, \n",
    "\n",
    "$$f(x) = \\begin{bmatrix}\n",
    "K(x,x_i)\\\\\n",
    "\\vdots\\\\\n",
    "K(x,x_N)\n",
    "\\end{bmatrix}(\\frac{I}{c} + \\Omega)^{-1}Y\n",
    "$$"
   ]
  },
  {
   "cell_type": "code",
   "execution_count": 33,
   "id": "09f78420",
   "metadata": {},
   "outputs": [],
   "source": [
    "class KernelELM:\n",
    "    def __init__ (self,num_hidden, activation='sigmoid'):\n",
    "        self.activation = getActivation(activation)\n",
    "        self.L = num_hidden\n",
    "        \n",
    "    def fit(self,  X,  y, C=1):\n",
    "        self.X = X\n",
    "        self.Y = y\n",
    "        self.N, self.M = X.shape\n",
    "        self.I = np.eye(self.N, self.N) \n",
    "        self.w =  np.random.normal(size=(self.M, self.L))\n",
    "        self.c = np.random.normal(size=(self.L))\n",
    "        self.C = C\n",
    "        \n",
    "        self.H = self.activation(self.X, self.w, self.c)\n",
    "        self.Beta = self.H.T @ np.linalg.inv(self.H @ self.H.T + self.I /self.C) @ self.Y\n",
    "        \n",
    "    def predict(self, X):\n",
    "        H_pre = self.activation(X, self.w, self.c)\n",
    "        return H_pre @ self.Beta"
   ]
  },
  {
   "cell_type": "code",
   "execution_count": 34,
   "id": "977f5b20-a197-47ab-bf54-58120ba24f80",
   "metadata": {},
   "outputs": [],
   "source": [
    "model = KernelELM(15)"
   ]
  },
  {
   "cell_type": "code",
   "execution_count": 35,
   "id": "9546b09b-49c9-4c6c-a711-6aa81d58935d",
   "metadata": {},
   "outputs": [],
   "source": [
    "model.fit(X_train, y_train, C=1)"
   ]
  },
  {
   "cell_type": "code",
   "execution_count": 36,
   "id": "002773f9-8e94-4b7e-90b3-d15bf264fa9d",
   "metadata": {},
   "outputs": [],
   "source": [
    "y_pred = model.predict(X_test)"
   ]
  },
  {
   "cell_type": "code",
   "execution_count": 37,
   "id": "d7bc2445-6b6e-49f9-a61e-fb9ccc983585",
   "metadata": {},
   "outputs": [
    {
     "data": {
      "text/plain": [
       "0.9777777777777777"
      ]
     },
     "execution_count": 37,
     "metadata": {},
     "output_type": "execute_result"
    }
   ],
   "source": [
    "sum(np.argmax(y_pred.values, axis=1) == np.argmax(y_test.values, axis=1)) / len(y_pred)"
   ]
  },
  {
   "cell_type": "code",
   "execution_count": 38,
   "id": "fe62ae93-de16-45e7-a18b-881315d9168c",
   "metadata": {},
   "outputs": [
    {
     "data": {
      "text/plain": [
       "array([[16,  0,  0],\n",
       "       [ 0, 17,  1],\n",
       "       [ 0,  0, 11]], dtype=int64)"
      ]
     },
     "execution_count": 38,
     "metadata": {},
     "output_type": "execute_result"
    }
   ],
   "source": [
    "confusion_matrix(np.argmax(y_test.values, axis=1), np.argmax(y_pred.values, axis=1), labels=[0, 1, 2])"
   ]
  },
  {
   "cell_type": "code",
   "execution_count": null,
   "id": "21109c4b-4c81-425e-96bb-cbcb6556d507",
   "metadata": {},
   "outputs": [],
   "source": []
  }
 ],
 "metadata": {
  "kernelspec": {
   "display_name": "Python 3",
   "language": "python",
   "name": "python3"
  },
  "language_info": {
   "codemirror_mode": {
    "name": "ipython",
    "version": 3
   },
   "file_extension": ".py",
   "mimetype": "text/x-python",
   "name": "python",
   "nbconvert_exporter": "python",
   "pygments_lexer": "ipython3",
   "version": "3.8.8"
  }
 },
 "nbformat": 4,
 "nbformat_minor": 5
}
